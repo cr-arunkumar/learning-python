{
 "cells": [
  {
   "cell_type": "code",
   "execution_count": 4,
   "metadata": {},
   "outputs": [],
   "source": [
    "import numpy as np\n",
    "import pandas as pd\n"
   ]
  },
  {
   "cell_type": "code",
   "execution_count": 5,
   "metadata": {},
   "outputs": [
    {
     "name": "stdout",
     "output_type": "stream",
     "text": [
      "The value - [11]\n",
      "The value - [22]\n",
      "The value - [33]\n",
      "The value - [44]\n",
      "The value - [55]\n",
      "after add operation: [11, 22, 33, 44, 55]\n",
      "----using numpy arrays----\n",
      "The numpy array values - [[11 22 33 44 55]]\n"
     ]
    }
   ],
   "source": [
    "x = [1, 2, 3, 4, 5]\n",
    "y = [10, 20, 30, 40, 50]\n",
    "z = []\n",
    "for i, j in zip(x, y):\n",
    "    print(f\"The value - [{i+j}]\")\n",
    "    z.append(i+j)\n",
    "print(\"after add operation:\", z)\n",
    "# Using numpy arrays\n",
    "x_np = np.array(x)\n",
    "y_np = np.array(y)\n",
    "print(\"----using numpy arrays----\")\n",
    "print(f\"The numpy array values - [{np.add(x_np, y_np)}]\")\n"
   ]
  },
  {
   "cell_type": "code",
   "execution_count": null,
   "metadata": {},
   "outputs": [
    {
     "name": "stdout",
     "output_type": "stream",
     "text": [
      "----using numpy frompyfunc----\n",
      "The numpy frompyfunc values - [11 22 33 44 55]\n",
      "after subtraction operation: [ -9 -18 -27 -36 -45]\n",
      "after division operation: [0.1 0.1 0.1 0.1 0.1]\n",
      "after remainder operation: [1 2 3 4 5]\n",
      "after divmod operation: (array([0, 0, 0, 0, 0]), array([1, 2, 3, 4, 5]))\n",
      "after absolute operation: [1 2 3 4 5]\n",
      "----type checking----\n",
      "The type of myAddFunc - <class 'numpy.ufunc'>\n",
      "The type of np.add - <class 'numpy.ufunc'>\n",
      "The type of np.concatenate - <class 'numpy._ArrayFunctionDispatcher'>\n"
     ]
    }
   ],
   "source": [
    "def myAdd(x, y):\n",
    "    return x+y\n",
    "\n",
    "\n",
    "myAddFunc = np.frompyfunc(myAdd, 2, 1)\n",
    "\n",
    "print(\"----using numpy frompyfunc----\")\n",
    "print(f\"The numpy frompyfunc values - {myAddFunc(x, y)}\")\n",
    "\n",
    "substraction_np = np.subtract(x_np, y_np)\n",
    "print(\"after subtraction operation:\", substraction_np)\n",
    "devision_np = np.divide(x_np, y_np)\n",
    "print(\"after division operation:\", devision_np)\n",
    "remainder_np = np.mod(x_np, y_np)\n",
    "print(\"after remainder operation:\", remainder_np)\n",
    "# divmode() returns a tuple (quotient, remainder) so it returns both quotient and remainder\n",
    "# (x//y, x%y) = np.divmod(x_np, y_np)'\n",
    "print(\"after divmod operation:\", np.divmod(x_np, y_np))\n",
    "# getting abosulte values\n",
    "abs_np = np.abs(x_np)\n",
    "print(\"after absolute operation:\", abs_np)\n",
    "# type checking\n",
    "print(\"----type checking----\")\n",
    "print(f\"The type of myAddFunc - {type(myAddFunc)}\")\n",
    "print(f\"The type of np.add - {type(np.add)}\")\n",
    "print(f\"The type of np.concatenate - {type(np.concatenate)}\")\n"
   ]
  },
  {
   "cell_type": "code",
   "execution_count": 7,
   "metadata": {},
   "outputs": [
    {
     "name": "stdout",
     "output_type": "stream",
     "text": [
      "----rounding decimals----\n",
      "Rounded values - [2. 3. 4. 1.]\n",
      "Floor values - [ 1.  2.  3.  1. -4. -4.]\n",
      "Ceil values - [ 2.  3.  4.  1. -3.]\n",
      "----truncate or fix function----\n",
      "Truncated values - [ 1.  2.  3.  1. -3. -3.]\n",
      "fix values - [ 1.  2.  3.  1. -3. -3.]\n"
     ]
    }
   ],
   "source": [
    "# Rounding Decimals - numpy\n",
    "print(\"----rounding decimals----\")\n",
    "# around- it increments the nearest number by 1 if the decimal part is 0.5 or more else it takes the integer part.\n",
    "print(f\"Rounded values - {np.around([1.599, 2.93389, 3.5, 1])}\")\n",
    "# floor - it rounds off to the nearest integer.\n",
    "# in case of negative numbers, it rounds down to the nearest integer. eg: floor(-1.5) = -2, floor(-3.5) = -4\n",
    "print(f\"Floor values - {np.floor([1.599, 2.99999, 3.5, 1, -3.999, -3.22])}\")\n",
    "# ceil - it rounds up to the nearest integer.\n",
    "print(f\"Ceil values - {np.ceil([1.599, 2.99999, 3.5, 1, -3.9])}\")\n",
    "\n",
    "# truncate or fix function - numpy\n",
    "# it removes the decimal part from the number.and return the floating part\n",
    "print(\"----truncate or fix function----\")\n",
    "print(\n",
    "    f\"Truncated values - {np.trunc([1.599, 2.99999, 3.5, 1, -3.999, -3.22])}\")\n",
    "print(f\"fix values - {np.fix([1.599, 2.99999, 3.5, 1, -3.999, -3.22])}\")\n"
   ]
  },
  {
   "cell_type": "code",
   "execution_count": 57,
   "metadata": {},
   "outputs": [
    {
     "name": "stdout",
     "output_type": "stream",
     "text": [
      "----numpy logs---- [1 2 3 4 5 6 7 8 9] \n",
      "\n",
      "Log base 2 values - [0.         1.         1.5849625  2.         2.32192809 2.5849625\n",
      " 2.80735492 3.         3.169925  ]\n",
      "Log base e values - [0.         0.69314718 1.09861229 1.38629436 1.60943791 1.79175947\n",
      " 1.94591015 2.07944154 2.19722458]\n",
      "Log base 10 values - [0.         0.30103    0.47712125 0.60205999 0.69897    0.77815125\n",
      " 0.84509804 0.90308999 0.95424251]\n",
      "Natural logarithm values or  base e  - [0.         0.69314718 1.09861229 1.38629436 1.60943791 1.79175947\n",
      " 1.94591015 2.07944154 2.19722458]\n",
      "Log base 15 values - 1.5541750452226386\n",
      "Natural logarithm values with invalid value - nan\n"
     ]
    },
    {
     "name": "stderr",
     "output_type": "stream",
     "text": [
      "/var/folders/bh/4rclxbnx2016p9vvx1sx17th0000gn/T/ipykernel_17412/3531510506.py:16: RuntimeWarning: invalid value encountered in log\n",
      "  print(f\"Natural logarithm values with invalid value - {np.log((-1))}\")\n"
     ]
    }
   ],
   "source": [
    "# numpy Logs -\n",
    "# numpy provide log with base 2 ,e ,10\n",
    "import math\n",
    "\n",
    "arr = np.arange(1, 10)\n",
    "print(\"----numpy logs----\", arr, \"\\n\")\n",
    "print(f\"Log base 2 values - {np.log2(arr)}\")\n",
    "print(f\"Log base e values - {np.log(arr)}\")\n",
    "print(f\"Log base 10 values - {np.log10(arr)}\")\n",
    "print(f\"Natural logarithm values or  base e  - {np.log(arr)}\")\n",
    "\n",
    "# we can perform the log with any base using np.log(base, arr)\n",
    "np_log = np.frompyfunc(math.log, 2, 1)\n",
    "print(f\"Log base 15 values - {np_log(122, 22)}\")\n",
    "\n",
    "print(f\"Natural logarithm values with invalid value - {np.log((-1))}\")\n"
   ]
  },
  {
   "cell_type": "code",
   "execution_count": 138,
   "metadata": {},
   "outputs": [
    {
     "name": "stdout",
     "output_type": "stream",
     "text": [
      "we can peform the add on diff axis [11 22 33 44 55]\n",
      "we can get total sum of elements by  165\n",
      "we can get the sum on axis-0 [11 22 33 44 55]\n",
      "we can get the sum on axis-1 [ 15 150]\n",
      "Original array cummulative sum [ 1  3  6 10 15]\n",
      "Commulative sum along axis 0 [[ 1  2  3  4  5]\n",
      " [11 22 33 44 55]]\n",
      "Commulative sum along axis 1 [[  1   3   6  10  15]\n",
      " [ 10  30  60 100 150]]\n"
     ]
    }
   ],
   "source": [
    "print(f\"we can peform the add on diff axis {np.add(x_np, y_np)}\")\n",
    "\n",
    "print(f\"we can get total sum of elements by  {np.sum([x_np, y_np])}\")\n",
    "print(f\"we can get the sum on axis-0 {np.sum([x_np, y_np], axis=0)}\")\n",
    "print(f\"we can get the sum on axis-1 {np.sum([x_np, y_np], axis=1)}\")\n",
    "\n",
    "# commulative sum\n",
    "x_np = np.array([1, 2, 3, 4, 5])\n",
    "y_np = np.array([10, 20, 30, 40, 50])\n",
    "print(f\"Original array cummulative sum {np.cumsum(x_np)}\")\n",
    "print(f\"Commulative sum along axis 0 {np.cumsum([x_np, y_np], axis=0)}\")\n",
    "print(f\"Commulative sum along axis 1 {np.cumsum([x_np, y_np], axis=1)}\")\n"
   ]
  },
  {
   "cell_type": "code",
   "execution_count": 181,
   "metadata": {},
   "outputs": [
    {
     "name": "stdout",
     "output_type": "stream",
     "text": [
      "product on flatted array 1440000000\n",
      "orginal array product [  1   2   6  24 120]\n",
      "product along axis 0 [ 10  40  90 160 250]\n",
      "product along axis 1 [     120 12000000]\n",
      "product along axis -1 [     120 12000000]\n"
     ]
    },
    {
     "data": {
      "text/plain": [
       "array([  1,   2,   6,  24, 120])"
      ]
     },
     "execution_count": 181,
     "metadata": {},
     "output_type": "execute_result"
    }
   ],
   "source": [
    "# numpy products\n",
    "x_np = np.array([1, 2, 3, 4, 5])\n",
    "y_np = np.array([10, 20, 30, 40, 50])\n",
    "print(f\"product on flatted array {np.prod([x_np, y_np])}\")\n",
    "print(f\"orginal array product {np.cumprod(x_np)}\")\n",
    "print(f\"product along axis 0 {np.prod([x_np, y_np], axis=0)}\")\n",
    "print(f\"product along axis 1 {np.prod([x_np, y_np], axis=1)}\")\n",
    "print(f\"product along axis -1 {np.prod([x_np, y_np], axis=-1)}\")\n",
    "# axis=0 means across vertically\n",
    "# axis 1 means operates horizontally\n",
    "# axis -1 means operates horizontally in reverse order\n",
    "\n",
    "new_arr = np.cumprod(x_np)\n",
    "new_arr\n"
   ]
  },
  {
   "cell_type": "code",
   "execution_count": 189,
   "metadata": {},
   "outputs": [
    {
     "name": "stdout",
     "output_type": "stream",
     "text": [
      "x_np array [1 2 3 4 5]\n",
      "diffrence on original array  [1 1 1 1]\n",
      "diffrence along axis 0 [[ 9 18 27 36 45]]\n",
      "diffrence along axis 1 [[ 1  1  1  1]\n",
      " [10 10 10 10]]\n"
     ]
    }
   ],
   "source": [
    "# diffrence fun\n",
    "print(f\"x_np array\", x_np)\n",
    "# b-a,c-b,d-c,e-d,....so on.\n",
    "print(f\"diffrence on original array  {np.diff(x_np)}\")\n",
    "# diffrence along axis 0 - vertically x-a,y-b,z-c,....so on.\n",
    "print(f\"diffrence along axis 0 {np.diff([x_np, y_np], axis=0)}\")\n",
    "# diffrence along axis 1 - horizontally [[b-a,c-b,...],[y-x,z-y]]so on.\n",
    "print(f\"diffrence along axis 1 {np.diff([x_np, y_np], axis=1)}\")\n",
    "# we can pass the count/num_of_times operatiion needs to perform in diffrence function\n",
    "    \n"
   ]
  }
 ],
 "metadata": {
  "kernelspec": {
   "display_name": ".venv",
   "language": "python",
   "name": "python3"
  },
  "language_info": {
   "codemirror_mode": {
    "name": "ipython",
    "version": 3
   },
   "file_extension": ".py",
   "mimetype": "text/x-python",
   "name": "python",
   "nbconvert_exporter": "python",
   "pygments_lexer": "ipython3",
   "version": "3.13.1"
  }
 },
 "nbformat": 4,
 "nbformat_minor": 2
}
