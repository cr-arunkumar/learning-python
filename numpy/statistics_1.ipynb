{
 "cells": [
  {
   "cell_type": "code",
   "execution_count": 526,
   "metadata": {},
   "outputs": [],
   "source": [
    "import pandas as pd\n",
    "import numpy as np"
   ]
  },
  {
   "cell_type": "code",
   "execution_count": 527,
   "metadata": {},
   "outputs": [
    {
     "name": "stdout",
     "output_type": "stream",
     "text": [
      "<class 'pandas.core.frame.DataFrame'>\n",
      "RangeIndex: 34 entries, 0 to 33\n",
      "Data columns (total 2 columns):\n",
      " #   Column  Non-Null Count  Dtype \n",
      "---  ------  --------------  ----- \n",
      " 0     Name  34 non-null     object\n",
      " 1   Income  34 non-null     int64 \n",
      "dtypes: int64(1), object(1)\n",
      "memory usage: 676.0+ bytes\n",
      "None\n",
      "             Income\n",
      "count  3.400000e+01\n",
      "mean   3.411765e+05\n",
      "std    1.706722e+06\n",
      "min    2.700000e+04\n",
      "25%    3.900000e+04\n",
      "50%    4.850000e+04\n",
      "75%    5.875000e+04\n",
      "max    1.000000e+07\n"
     ]
    }
   ],
   "source": [
    "income_data = pd.read_csv(\n",
    "    '/Users/nirmalsinhrathod/python-proj/learning-python/numpy/city_income.csv')\n",
    "# print(income_data.head(3))\n",
    "print(income_data.info())\n",
    "print(income_data.describe())"
   ]
  },
  {
   "cell_type": "code",
   "execution_count": 528,
   "metadata": {},
   "outputs": [
    {
     "name": "stdout",
     "output_type": "stream",
     "text": [
      "The mean income for the city is 341176.4705882353\n",
      "The median income for the city is 48500.0\n",
      "The mode income for the city is 39000\n",
      "Standard varience 1706721.9238909998\n",
      "standard deviation of income for the city is 1706721.9238909998 \n",
      "\n"
     ]
    }
   ],
   "source": [
    "# calculate the mean income for a city\n",
    "import math\n",
    "mean_income = income_data[\"Income\"].mean()  # avg income\n",
    "print(f\"The mean income for the city is {mean_income}\")\n",
    "# calculate the median income for a city\n",
    "median_income = income_data[\"Income\"].median()  # median income or middle value\n",
    "print(f\"The median income for the city is {median_income}\")\n",
    "# calculate the mode income for a city\n",
    "# mode - maximum frequency of the values\n",
    "mode_income = income_data[\"Income\"].mode()\n",
    "print(f\"The mode income for the city is {mode_income[0]}\")\n",
    "\n",
    "income_data[\"Income\"].max()\n",
    "income_data[\"Income\"].min()\n",
    "print(\"Standard varience\", income_data[\"Income\"].std())  # standard deviation\n",
    "# formula to calculate std - sqrt(sum((x-mean)^2)/(n-1))\n",
    "# x - represents the individual income value\n",
    "\n",
    "n = income_data[\"Income\"].count()\n",
    "global income_std\n",
    "income_std = 0\n",
    "for x in income_data[\"Income\"]:\n",
    "    income_std += (x - mean_income) ** 2\n",
    "income_std = math.sqrt(income_std / (n-1))\n",
    "print(f\"standard deviation of income for the city is {income_std} \\n\")"
   ]
  },
  {
   "cell_type": "code",
   "execution_count": 529,
   "metadata": {},
   "outputs": [
    {
     "name": "stdout",
     "output_type": "stream",
     "text": [
      "quantfile 25% 39000.0\n",
      "quantile 50% 48500.0\n",
      "quantile 99.999% 9999996.724749941\n"
     ]
    }
   ],
   "source": [
    "print(\"quantfile 25%\", income_data[\"Income\"].quantile(0.25))\n",
    "# quanile value - 0<=quantile<=1\n",
    "# 25% quantile - 25% of the my data points are less than or equal to this value\n",
    "print(\"quantile 50%\", income_data[\"Income\"].quantile(0.50))\n",
    "\n",
    "print(\"quantile 99.999%\", income_data[\"Income\"].quantile(\n",
    "    0.99999999, interpolation=\"linear\"))"
   ]
  },
  {
   "cell_type": "code",
   "execution_count": 530,
   "metadata": {},
   "outputs": [
    {
     "name": "stdout",
     "output_type": "stream",
     "text": [
      "The number of outliers removed is 7\n",
      "       Name  Income\n",
      "0     Alice   55000\n",
      "2   Charlie   35000\n",
      "3     David   48000\n",
      "5     Alice   29000\n",
      "7   Charlie   40000\n",
      "8     David   52000\n",
      "9       Eve   28000\n",
      "11      Bob   31000\n",
      "12  Charlie   58000\n",
      "13    David   42000\n",
      "14      Eve   49000\n",
      "15    Alice   27000\n",
      "17  Charlie   45000\n",
      "18    David   53000\n",
      "19      Eve   39000\n",
      "20    Alice   57000\n",
      "21      Bob   41000\n",
      "22  Charlie   52000\n",
      "23    David   47000\n",
      "24      Eve   60000\n",
      "25    Alice   34000\n",
      "26      Bob   59000\n",
      "27  Charlie   46000\n",
      "28    David   38000\n",
      "29      Eve   51000\n",
      "31      Bob   33000\n",
      "32  Charlie   39000\n"
     ]
    }
   ],
   "source": [
    "# outlier - a data point that is significantly different from other data points\n",
    "# remove the outliers\n",
    "# i want to remove the outliers from the income data 80%\n",
    "\n",
    "income_data_without_outliers = income_data[income_data[\"Income\"]\n",
    "                                           < income_data[\"Income\"].quantile(0.8)]\n",
    "print(f\"The number of outliers removed is {\n",
    "      income_data.shape[0] - income_data_without_outliers.shape[0]}\")\n",
    "print(income_data_without_outliers)"
   ]
  },
  {
   "cell_type": "code",
   "execution_count": 531,
   "metadata": {},
   "outputs": [
    {
     "name": "stdout",
     "output_type": "stream",
     "text": [
      "    Name   Income\n",
      "0  Alice  55000.0\n",
      "----\n",
      "       Name   Income\n",
      "0     Alice  55000.0\n",
      "1       Bob  72000.0\n",
      "2   Charlie  35000.0\n",
      "3     David      NaN\n",
      "4       Eve  62000.0\n",
      "5     Alice  29000.0\n",
      "6       Bob  75000.0\n",
      "7   Charlie  40000.0\n",
      "8     David  52000.0\n",
      "9       Eve  28000.0\n",
      "10    Alice  63000.0\n",
      "11      Bob  31000.0\n"
     ]
    },
    {
     "name": "stderr",
     "output_type": "stream",
     "text": [
      "/var/folders/bh/4rclxbnx2016p9vvx1sx17th0000gn/T/ipykernel_7239/2267404239.py:2: FutureWarning: ChainedAssignmentError: behaviour will change in pandas 3.0!\n",
      "You are setting values through chained assignment. Currently this works in certain cases, but when using Copy-on-Write (which will become the default behaviour in pandas 3.0) this will never work to update the original DataFrame or Series, because the intermediate object on which we are setting values will behave as a copy.\n",
      "A typical example is when you are setting values in a column of a DataFrame, like:\n",
      "\n",
      "df[\"col\"][row_indexer] = value\n",
      "\n",
      "Use `df.loc[row_indexer, \"col\"] = values` instead, to perform the assignment in a single step and ensure this keeps updating the original `df`.\n",
      "\n",
      "See the caveats in the documentation: https://pandas.pydata.org/pandas-docs/stable/user_guide/indexing.html#returning-a-view-versus-a-copy\n",
      "\n",
      "  income_data[\"Income\"][3]=np.nan\n",
      "/var/folders/bh/4rclxbnx2016p9vvx1sx17th0000gn/T/ipykernel_7239/2267404239.py:2: SettingWithCopyWarning: \n",
      "A value is trying to be set on a copy of a slice from a DataFrame\n",
      "\n",
      "See the caveats in the documentation: https://pandas.pydata.org/pandas-docs/stable/user_guide/indexing.html#returning-a-view-versus-a-copy\n",
      "  income_data[\"Income\"][3]=np.nan\n"
     ]
    }
   ],
   "source": [
    "# do data cleaning\n",
    "income_data[\"Income\"][3] = np.nan\n",
    "# print(income_data)\n",
    "income_data_without_nan = income_data.dropna()\n",
    "print(income_data_without_nan[:1])\n",
    "print(\"----\")\n",
    "\n",
    "# we can aslo drop the duplicate items\n",
    "income_data_without_duplicates = income_data.drop_duplicates()\n",
    "print(income_data_without_duplicates[:12])"
   ]
  },
  {
   "cell_type": "code",
   "execution_count": 532,
   "metadata": {},
   "outputs": [
    {
     "name": "stdout",
     "output_type": "stream",
     "text": [
      "      Name   Income\n",
      "0    Alice  55000.0\n",
      "1      Bob  72000.0\n",
      "2  Charlie  35000.0\n",
      "3    David      NaN\n",
      "4      Eve  62000.0\n",
      "median income was 48500.0\n",
      "-----    --- \n",
      "      Name   Income\n",
      "0    Alice  55000.0\n",
      "1      Bob  72000.0\n",
      "2  Charlie  35000.0\n",
      "3    David  48500.0\n",
      "4      Eve  62000.0\n"
     ]
    }
   ],
   "source": [
    "# filling Nan value with median\n",
    "print(income_data[:5])\n",
    "print(\"median income was\", median_income)\n",
    "new_income_data = income_data.fillna(median_income)\n",
    "print(\"-----    --- \")\n",
    "print(new_income_data[:5])"
   ]
  },
  {
   "cell_type": "code",
   "execution_count": 533,
   "metadata": {},
   "outputs": [
    {
     "name": "stdout",
     "output_type": "stream",
     "text": [
      "                 id       host_id      latitude     longitude         price  \\\n",
      "count  4.889500e+04  4.889500e+04  48895.000000  48895.000000  48895.000000   \n",
      "mean   1.901714e+07  6.762001e+07     40.728949    -73.952170    152.720687   \n",
      "std    1.098311e+07  7.861097e+07      0.054530      0.046157    240.154170   \n",
      "min    2.539000e+03  2.438000e+03     40.499790    -74.244420      0.000000   \n",
      "25%    9.471945e+06  7.822033e+06     40.690100    -73.983070     69.000000   \n",
      "50%    1.967728e+07  3.079382e+07     40.723070    -73.955680    106.000000   \n",
      "75%    2.915218e+07  1.074344e+08     40.763115    -73.936275    175.000000   \n",
      "max    3.648724e+07  2.743213e+08     40.913060    -73.712990  10000.000000   \n",
      "\n",
      "       minimum_nights  number_of_reviews  reviews_per_month  \\\n",
      "count    48895.000000       48895.000000       38843.000000   \n",
      "mean         7.029962          23.274466           1.373221   \n",
      "std         20.510550          44.550582           1.680442   \n",
      "min          1.000000           0.000000           0.010000   \n",
      "25%          1.000000           1.000000           0.190000   \n",
      "50%          3.000000           5.000000           0.720000   \n",
      "75%          5.000000          24.000000           2.020000   \n",
      "max       1250.000000         629.000000          58.500000   \n",
      "\n",
      "       calculated_host_listings_count  availability_365  \n",
      "count                    48895.000000      48895.000000  \n",
      "mean                         7.143982        112.781327  \n",
      "std                         32.952519        131.622289  \n",
      "min                          1.000000          0.000000  \n",
      "25%                          1.000000          0.000000  \n",
      "50%                          1.000000         45.000000  \n",
      "75%                          2.000000        227.000000  \n",
      "max                        327.000000        365.000000  \n"
     ]
    }
   ],
   "source": [
    "ny_data = pd.read_csv(\"./../new-york-city-airbnb-open-data.csv\")\n",
    "print(ny_data.describe())"
   ]
  },
  {
   "cell_type": "code",
   "execution_count": 534,
   "metadata": {},
   "outputs": [
    {
     "name": "stdout",
     "output_type": "stream",
     "text": [
      "NY data after removing NaN values:\n",
      " 0    149\n",
      "1    225\n",
      "3     89\n",
      "Name: price, dtype: int64\n",
      "Average price for a room in  NY data: 142.33252621004095\n",
      "Median price for a room in  NY data: 101.0\n",
      "            id                        name   host_id host_name  \\\n",
      "2031    903972  Great Bedroom in Manhattan   4734398        Jj   \n",
      "11759  9145202     Room near JFK Queen Bed  47621202      Dona   \n",
      "\n",
      "      neighbourhood_group neighbourhood  latitude  longitude     room_type  \\\n",
      "2031            Manhattan        Harlem  40.82085  -73.94025  Private room   \n",
      "11759              Queens       Jamaica  40.66730  -73.76831  Private room   \n",
      "\n",
      "       price  minimum_nights  number_of_reviews last_review  \\\n",
      "2031      49               1                607  2019-06-21   \n",
      "11759     47               1                629  2019-07-05   \n",
      "\n",
      "       reviews_per_month  calculated_host_listings_count  availability_365  \n",
      "2031                7.75                               3               293  \n",
      "11759              14.58                               2               333  \n"
     ]
    }
   ],
   "source": [
    "# all data that have nan values\n",
    "# print(ny_data.isnull().sum())\n",
    "\n",
    "# remove all NaN values\n",
    "ny_data_without_nan = ny_data.dropna()\n",
    "print(\"NY data after removing NaN values:\\n\", ny_data_without_nan[\"price\"][:3])\n",
    "\n",
    "# calculate the average price of NY data\n",
    "print(\"Average price for a room in  NY data:\",\n",
    "      ny_data_without_nan[\"price\"].mean())\n",
    "\n",
    "# calculate the median price of NY data\n",
    "print(\"Median price for a room in  NY data:\",\n",
    "      ny_data_without_nan[\"price\"].median())\n",
    "print(ny_data[ny_data[\"number_of_reviews\"] > 600])"
   ]
  },
  {
   "cell_type": "code",
   "execution_count": 535,
   "metadata": {},
   "outputs": [
    {
     "name": "stdout",
     "output_type": "stream",
     "text": [
      "Standard deviation of price for NY rooms: 196.9947559183469\n",
      "Standard deviation of price for NY rooms calculated manually: 196.99475591833985\n"
     ]
    }
   ],
   "source": [
    "# standard deviation of price\n",
    "ny_room_price_std = ny_data_without_nan[\"price\"].std()\n",
    "print(\"Standard deviation of price for NY rooms:\", ny_room_price_std)\n",
    "\n",
    "# calculate using formaula\n",
    "ny_room_price_mean = ny_data_without_nan[\"price\"].mean()\n",
    "ny_data_size = ny_data_without_nan[\"price\"].count()\n",
    "diff_bet_currentPrice_mean = 0\n",
    "for price in ny_data_without_nan[\"price\"]:\n",
    "    diff_bet_currentPrice_mean += (price - ny_room_price_mean) ** 2\n",
    "ny_room_price_std_manual = math.sqrt(\n",
    "    float(diff_bet_currentPrice_mean) / (ny_data_size-1))\n",
    "print(\"Standard deviation of price for NY rooms calculated manually:\",\n",
    "      ny_room_price_std_manual)"
   ]
  },
  {
   "cell_type": "code",
   "execution_count": 538,
   "metadata": {},
   "outputs": [
    {
     "data": {
      "text/plain": [
       "<Axes: xlabel='price', ylabel='availability_365'>"
      ]
     },
     "execution_count": 538,
     "metadata": {},
     "output_type": "execute_result"
    },
    {
     "data": {
      "image/png": "[encoded data removed]",
      "text/plain": [
       "<Figure size 640x480 with 1 Axes>"
      ]
     },
     "metadata": {},
     "output_type": "display_data"
    }
   ],
   "source": [
    "x = ny_data[\"availability_365\"].axes\n",
    "ny_data[:100].plot.scatter(y=\"availability_365\", x=\"price\")"
   ]
  }
 ],
 "metadata": {
  "kernelspec": {
   "display_name": ".venv",
   "language": "python",
   "name": "python3"
  },
  "language_info": {
   "codemirror_mode": {
    "name": "ipython",
    "version": 3
   },
   "file_extension": ".py",
   "mimetype": "text/x-python",
   "name": "python",
   "nbconvert_exporter": "python",
   "pygments_lexer": "ipython3",
   "version": "3.13.1"
  }
 },
 "nbformat": 4,
 "nbformat_minor": 2
}
