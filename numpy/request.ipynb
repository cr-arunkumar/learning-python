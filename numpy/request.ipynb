{
 "cells": [
  {
   "cell_type": "code",
   "execution_count": 18,
   "metadata": {},
   "outputs": [
    {
     "name": "stdout",
     "output_type": "stream",
     "text": [
      "Mock Data {\n",
      "    \"body\": \"ea velit perferendis earum ut voluptatem voluptate itaque iusto\\ntotam pariatur in\\nnemo voluptatem voluptatem autem magni tempora minima in\\nest distinctio qui assumenda accusamus dignissimos officia nesciunt nobis\",\n",
      "    \"id\": 34,\n",
      "    \"title\": \"magnam ut rerum iure\",\n",
      "    \"userId\": 4\n",
      "}\n"
     ]
    }
   ],
   "source": [
    "import json\n",
    "import requests\n",
    "import psycopg2\n",
    "mock_data_api= \"https://jsonplaceholder.typicode.com/posts/\"\n",
    "\n",
    "\n",
    "db_config={\n",
    "\n",
    "}\n",
    "\n",
    "connection = psycopg2.connect(**db_config)\n",
    "def get_mock_data(postId=1):\n",
    "    try:\n",
    "        response = requests.get(mock_data_api+str(postId))\n",
    "        if not response.ok:\n",
    "            raise requests.exceptions.HTTPError(response.status_code)\n",
    "        data = response.json()\n",
    "        return data\n",
    "    except requests.exceptions.RequestException as e:\n",
    "        print(\"An error occurred while fetching data:\", e)\n",
    "        raise Exception(\"An unexpected error occurred.\")\n",
    "    except Exception as e:\n",
    "        print(\"Something went wrong:\", e)\n",
    "        raise Exception(\"An unexpected error occurred.\")\n",
    "\n",
    "if __name__== \"__main__\":\n",
    "    data = get_mock_data(34)\n",
    "    print(\"Mock Data\",json.dumps(data, indent=4, sort_keys=True) if data else \"No data found.\")\n"
   ]
  }
 ],
 "metadata": {
  "kernelspec": {
   "display_name": ".venv",
   "language": "python",
   "name": "python3"
  },
  "language_info": {
   "codemirror_mode": {
    "name": "ipython",
    "version": 3
   },
   "file_extension": ".py",
   "mimetype": "text/x-python",
   "name": "python",
   "nbconvert_exporter": "python",
   "pygments_lexer": "ipython3",
   "version": "3.13.1"
  }
 },
 "nbformat": 4,
 "nbformat_minor": 2
}
