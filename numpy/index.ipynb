{
 "cells": [
  {
   "cell_type": "code",
   "execution_count": 268,
   "metadata": {},
   "outputs": [
    {
     "name": "stdout",
     "output_type": "stream",
     "text": [
      "[ 305120 1639822 1418756  901538  393918 1266089  456968  801301 1117313\n",
      " 1359976  949268  655523  284667 1299328 1002956  727701  552301 1697108\n",
      "  628725  601937 1736096  629817  792635  634896  688966 1275211 1415914\n",
      "  303518 1434706  192525 1095010  231998  242793   55746  856111  267255\n",
      " 1762213  430597 1391879  643824  415682  705525  899220   42091 1349654\n",
      "  426451   45919  218534 1553920 1738897]\n",
      "[1 3 4 5]\n",
      "<class 'numpy.ndarray'>\n"
     ]
    }
   ],
   "source": [
    "import numpy as np\n",
    "\n",
    "\n",
    "def generate_random_numbers(size, min_val, max_val):\n",
    "    return np.random.randint(min_val, max_val, size)\n",
    "\n",
    "\n",
    "random_numbers = generate_random_numbers(50, 1, 1777700)\n",
    "print(random_numbers)\n",
    "# python array\n",
    "python_arr = [1, 3, 4, 5]\n",
    "# convert to numpy array\n",
    "numpy_arr = np.array(python_arr)\n",
    "print(numpy_arr)\n",
    "print(type(numpy_arr))"
   ]
  },
  {
   "cell_type": "code",
   "execution_count": 269,
   "metadata": {},
   "outputs": [
    {
     "name": "stdout",
     "output_type": "stream",
     "text": [
      "numpy_arr_2: [1 2 3 4 5]\n",
      "numpy_arr_2 + 2: [3 4 5 6 7]\n",
      "numpy_arr_2 * 2: [ 2  4  6  8 10]\n",
      "numpy_arr_2 / 2: [0.5 1.  1.5 2.  2.5]\n",
      "numpy_arr_2 ** 2: [ 1  4  9 16 25]\n",
      "numpy_arr_2.sum(): 15\n"
     ]
    }
   ],
   "source": [
    "\n",
    "# numpy array operations\n",
    "numpy_arr_2 = np.array([1, 2, 3, 4, 5])\n",
    "print(\"numpy_arr_2:\", numpy_arr_2)\n",
    "print(\"numpy_arr_2 + 2:\", numpy_arr_2 + 2)\n",
    "print(\"numpy_arr_2 * 2:\", numpy_arr_2 * 2)\n",
    "print(\"numpy_arr_2 / 2:\", numpy_arr_2 / 2)\n",
    "print(\"numpy_arr_2 ** 2:\", numpy_arr_2 ** 2)\n",
    "print(\"numpy_arr_2.sum():\", numpy_arr_2.sum())"
   ]
  },
  {
   "cell_type": "code",
   "execution_count": 270,
   "metadata": {},
   "outputs": [
    {
     "name": "stdout",
     "output_type": "stream",
     "text": [
      "numpy_arr_2.mean(): 3.0\n",
      "numpy_arr_2.std(): 1.4142135623730951\n"
     ]
    }
   ],
   "source": [
    "print(\"numpy_arr_2.mean():\", numpy_arr_2.mean())\n",
    "print(\"numpy_arr_2.std():\", numpy_arr_2.std())"
   ]
  },
  {
   "cell_type": "code",
   "execution_count": 271,
   "metadata": {},
   "outputs": [
    {
     "name": "stdout",
     "output_type": "stream",
     "text": [
      "Python 2D array sum: 1320  total time taken: 5.817413330078125e-05\n",
      "Numpy 2D array sum: 1320  total time taken: 5.5789947509765625e-05\n"
     ]
    }
   ],
   "source": [
    "import time\n",
    "\n",
    "python_2d_arr = [[1, 2, 3, 3, 4, 5, 5, 65, 6, 6, 76, 6, 6, 6, 6, 6, 6, 6, 6, 6, 6, 6, 6, 6, 6, 6, 6, 6, 6, 6, 6, 6, 6, 6, 6, 6, 6, 6, 6, 6, 6, 66, 6, 6, 6], [1, 2, 3, 3, 4, 5, 5, 65, 6, 6, 76, 6, 6, 6, 6, 6, 6, 6, 6, 6,\n",
    "                                                                                                                                                              6, 6, 6, 6, 6, 6, 6, 6, 6, 6, 6, 6, 6, 6, 6, 6, 6, 6, 6, 6, 6, 66, 6, 6, 6], [1, 2, 3, 3, 4, 5, 5, 65, 6, 6, 76, 6, 6, 6, 6, 6, 6, 6, 6, 6, 6, 6, 6, 6, 6, 6, 6, 6, 6, 6, 6, 6, 6, 6, 6, 6, 6, 6, 6, 6, 6, 66, 6, 6, 6]]\n",
    "start_python_time = time.time()\n",
    "python_2d_arr_sum = sum([sum(row) for row in python_2d_arr])\n",
    "end_python_time = time.time()\n",
    "print(\"Python 2D array sum:\", python_2d_arr_sum,\n",
    "      \" total time taken:\", end_python_time-start_python_time)\n",
    "\n",
    "# lets do the same with numpy\n",
    "numpy_2d_arr = np.array(python_2d_arr)\n",
    "start_numpy_time = time.time()\n",
    "numpy_2d_arr_sum = numpy_2d_arr.sum()\n",
    "end_numpy_time = time.time()\n",
    "print(\"Numpy 2D array sum:\", numpy_2d_arr_sum,\n",
    "      \" total time taken:\", end_numpy_time-start_numpy_time)"
   ]
  },
  {
   "cell_type": "code",
   "execution_count": 272,
   "metadata": {},
   "outputs": [
    {
     "name": "stdout",
     "output_type": "stream",
     "text": [
      "numpy_arr_2: [1 2 3 4 5 6]\n",
      "numpy_arr_2.shape: (6,)\n",
      "numpy_2d_arr_3x3: [[ 9  8  7  6]\n",
      " [ 6  3  6  1]\n",
      " [ 6  7  8  3]\n",
      " [10  5  7  9]]\n",
      "numpy_2d_arr_3x3m-reshape ---- (4, 4) [[[ 9  8]\n",
      "  [ 7  6]]\n",
      "\n",
      " [[ 6  3]\n",
      "  [ 6  1]]\n",
      "\n",
      " [[ 6  7]\n",
      "  [ 8  3]]\n",
      "\n",
      " [[10  5]\n",
      "  [ 7  9]]] -----\n",
      "numpy_2d_arr_3x3.max(): 10\n",
      "numpy_2d_arr_3x3.min(): (4, 4) 1\n",
      "<class 'numpy.ndarray'> items types int64\n",
      "numpy_2d_arr_3x3.astype(float): [[ 9.  8.  7.  6.]\n",
      " [ 6.  3.  6.  1.]\n",
      " [ 6.  7.  8.  3.]\n",
      " [10.  5.  7.  9.]]\n"
     ]
    }
   ],
   "source": [
    "numpy_arr_2 = np.array([1, 2, 3, 4, 5, 6])\n",
    "print(\"numpy_arr_2:\", numpy_arr_2)\n",
    "# shape method - returns the dimensions of the array as a tuple\n",
    "print(\"numpy_arr_2.shape:\", numpy_arr_2.shape)\n",
    "numpy_2d_arr_3x3 = np.random.randint(1, 11, size=(4, 4))\n",
    "print(\"numpy_2d_arr_3x3:\", numpy_2d_arr_3x3)\n",
    "\"\"\"\n",
    "reshape()- returns a new array with the specified shape.\n",
    "input parameters:\n",
    "- newshape: a tuple of integers defining the new shape.\n",
    "   - eg, (2,3)- the array will be reshaped to a 2x3 array.\n",
    "   - 3g (2,3,4)- the array will be reshaped to a 2x3x4 array.\n",
    "- (t1,t12,t3,t4)\n",
    "   \"\"\"\n",
    "print(\"numpy_2d_arr_3x3m-reshape ----\", numpy_2d_arr_3x3.shape,\n",
    "      numpy_2d_arr_3x3.reshape(4, 2, 2), \"-----\")\n",
    "\n",
    "# get the maximum value in the array\n",
    "print(\"numpy_2d_arr_3x3.max():\", numpy_2d_arr_3x3.max())\n",
    "# get the minimum value in the array\n",
    "print(\"numpy_2d_arr_3x3.min():\", numpy_2d_arr_3x3.shape, numpy_2d_arr_3x3.min())\n",
    "\n",
    "# retrun all element as array or flatted array\n",
    "# print(\"numpy_2d_arr_3x3.flatten():\",numpy_2d_arr_3x3.flatten())\n",
    "# reshape the array\n",
    "# print(\"numpy_2d_arr_3x3.reshape(4,16):\",numpy_2d_arr_3x3.reshape(4,16))\n",
    "# print(numpy_2d_arr_3x3)\n",
    "\n",
    "# type of numpy array\n",
    "print(type(numpy_2d_arr_3x3), \"items types\", numpy_2d_arr_3x3.dtype)\n",
    "# cast the all items to float/anything\n",
    "print(\"numpy_2d_arr_3x3.astype(float):\", numpy_2d_arr_3x3.astype(float))"
   ]
  },
  {
   "cell_type": "code",
   "execution_count": 273,
   "metadata": {},
   "outputs": [
    {
     "name": "stdout",
     "output_type": "stream",
     "text": [
      "np.concatenate((np_arr1, np_arr2)): [ 1  2  3  4  5  6  7  8  9 10]\n",
      "np.hstack((np_arr1, np_arr2)): [ 1  2  3  4  5  6  7  8  9 10]\n",
      "np.vstack((np_arr1, np_arr2)): [[ 1  2  3  4  5]\n",
      " [ 6  7  8  9 10]]\n"
     ]
    }
   ],
   "source": [
    "np_arr1 = np.array([1, 2, 3, 4, 5])\n",
    "np_arr2 = np.array([6, 7, 8, 9, 10])\n",
    "# merge two arrays\n",
    "print(\"np.concatenate((np_arr1, np_arr2)):\",\n",
    "      np.concatenate((np_arr1, np_arr2)))\n",
    "# other way to merge two arrays\n",
    "print(\"np.hstack((np_arr1, np_arr2)):\", np.hstack((np_arr1, np_arr2)))\n",
    "print(\"np.vstack((np_arr1, np_arr2)):\", np.vstack((np_arr1, np_arr2)))"
   ]
  },
  {
   "cell_type": "code",
   "execution_count": 274,
   "metadata": {},
   "outputs": [
    {
     "name": "stdout",
     "output_type": "stream",
     "text": [
      "my_numpy_arr: [[[32  3]\n",
      "  [ 2  4]]\n",
      "\n",
      " [[ 5  5]\n",
      "  [34 34]]]\n"
     ]
    }
   ],
   "source": [
    "my_numpy_arr = np.array([32, 3, 2, 4, 5, 5, 34, 34]).reshape(2, 2, 2)\n",
    "print(\"my_numpy_arr:\", my_numpy_arr)"
   ]
  },
  {
   "cell_type": "code",
   "execution_count": 275,
   "metadata": {},
   "outputs": [],
   "source": [
    "np_arr = np.random.randint(10, 70, size=(5, 5))"
   ]
  },
  {
   "cell_type": "code",
   "execution_count": 276,
   "metadata": {},
   "outputs": [
    {
     "name": "stdout",
     "output_type": "stream",
     "text": [
      "np_arr: [[69 47 10 68 41]\n",
      " [39 33 15 28 51]\n",
      " [26 43 38 25 64]\n",
      " [61 53 40 64 49]\n",
      " [21 37 23 36 26]]\n"
     ]
    }
   ],
   "source": [
    "print(\"np_arr:\", np_arr)"
   ]
  },
  {
   "cell_type": "code",
   "execution_count": 277,
   "metadata": {},
   "outputs": [
    {
     "name": "stdout",
     "output_type": "stream",
     "text": [
      "np_arr_flattened: [69 47 10 68 41 39 33 15 28 51 26 43 38 25 64 61 53 40 64 49 21 37 23 36\n",
      " 26]\n"
     ]
    }
   ],
   "source": [
    "np_arr_flattened = np_arr.flatten()\n",
    "print(\"np_arr_flattened:\", np_arr_flattened)"
   ]
  },
  {
   "cell_type": "code",
   "execution_count": 278,
   "metadata": {},
   "outputs": [
    {
     "name": "stdout",
     "output_type": "stream",
     "text": [
      "np_arr_sorted: [[10 41 47 68 69]\n",
      " [15 28 33 39 51]\n",
      " [25 26 38 43 64]\n",
      " [40 49 53 61 64]\n",
      " [21 23 26 36 37]]\n",
      "np_arr_sorted_descending: [[69 53 40 68 64]\n",
      " [61 47 38 64 51]\n",
      " [39 43 23 36 49]\n",
      " [26 37 15 28 41]\n",
      " [21 33 10 25 26]]\n",
      "np_arr_sorted_descending: [[10 41 47 68 69]\n",
      " [15 28 33 39 51]\n",
      " [25 26 38 43 64]\n",
      " [40 49 53 61 64]\n",
      " [21 23 26 36 37]]\n",
      "np_arr_rand: 5*5 [[0.63228045 0.11392729 0.71958616 0.61434707 0.42909353]\n",
      " [0.81750024 0.29313939 0.95937711 0.10546651 0.36891291]\n",
      " [0.02982005 0.72480865 0.94665333 0.04694854 0.93280523]\n",
      " [0.88411375 0.581617   0.35286873 0.37421294 0.14760063]\n",
      " [0.56525506 0.5236938  0.00126816 0.19986331 0.22848423]]\n",
      "np_arr_rand.sum(): 11.593644057239224\n",
      "np_arr_rand.mean(): 0.463745762289569\n",
      "np_arr_rand.std(): 0.3049181428894023\n"
     ]
    }
   ],
   "source": [
    "np_arr_sorted = np.sort(np_arr)\n",
    "# by default np sorting in ascending order\n",
    "print(\"np_arr_sorted:\", np_arr_sorted)\n",
    "# to sort in descending order we can use\n",
    "print(\"np_arr_sorted_descending:\", np.sort(np_arr, axis=0)[::-1])\n",
    "# or\n",
    "print(\"np_arr_sorted_descending:\", np.sort(np_arr, kind=\"mergesort\"))\n",
    "# [::-1] is used to reverse the sorted order, achieving descending sorting\n",
    "\n",
    "\n",
    "# create a random 5x5 matrix\n",
    "np_arr_rand = np.random.rand(5, 5)\n",
    "print(\"np_arr_rand: 5*5\", np_arr_rand)\n",
    "# calculate the sum of all elements in the matrix\n",
    "print(\"np_arr_rand.sum():\", np_arr_rand.sum())\n",
    "# calculate the mean of all elements in the matrix\n",
    "print(\"np_arr_rand.mean():\", np_arr_rand.mean())\n",
    "# calculate the standard deviation of all elements in the matrix\n",
    "print(\"np_arr_rand.std():\", np_arr_rand.std())\n",
    "\n",
    "\n",
    "# we can also do metrix operations using numpy\n",
    "np_arr1 = np.array([1, 2, 3, 4, 5])\n",
    "np_arr2 = np.array([6, 7, 8, 9, 10])"
   ]
  },
  {
   "cell_type": "code",
   "execution_count": 279,
   "metadata": {},
   "outputs": [
    {
     "name": "stdout",
     "output_type": "stream",
     "text": [
      "np_arr1 + np_arr2: [[ 0.   4.3  6.   8. ]\n",
      " [ 0.  12.7 15.  17. ]\n",
      " [ 3.   5.   7.   9. ]]\n",
      "np_arr1 - np_arr2: [[ 2.  -0.3  0.   0. ]\n",
      " [10.  -0.7 -1.  -1. ]\n",
      " [ 1.   1.   1.   1. ]]\n",
      "np_arr1 * np_arr2: [[ -1.    4.6   9.   16. ]\n",
      " [-25.   40.2  56.   72. ]\n",
      " [  2.    6.   12.   20. ]]\n",
      "np_arr1 / np_arr2: [[-1.          0.86956522  1.          1.        ]\n",
      " [-1.          0.89552239  0.875       0.88888889]\n",
      " [ 2.          1.5         1.33333333  1.25      ]]\n",
      "np_arr1: [[1. 2. 3. 4.]\n",
      " [5. 6. 7. 8.]\n",
      " [2. 3. 4. 5.]]\n"
     ]
    }
   ],
   "source": [
    "# we can also do metrix operations using numpy\n",
    "np_arr1 = np.array([[1, 2, 3, 4], [5, 6, 7, 8], [2, 3, 4, 5]])\n",
    "np_arr2 = np.array([[-1, 2.3, 3, 4], [-5, 6.7, 8, 9], [1, 2, 3, 4]])\n",
    "\n",
    "# add two arrays\n",
    "print(\"np_arr1 + np_arr2:\", np_arr1 + np_arr2)\n",
    "# subtract two arrays\n",
    "print(\"np_arr1 - np_arr2:\", np_arr1 - np_arr2)\n",
    "# multiply two arrays\n",
    "print(\"np_arr1 * np_arr2:\", np_arr1 * np_arr2)\n",
    "# divide two arrays\n",
    "print(\"np_arr1 / np_arr2:\", np_arr1 / np_arr2)\n",
    "\n",
    "print(\"np_arr1:\", np.array(np_arr1, dtype=np.float64))"
   ]
  },
  {
   "cell_type": "code",
   "execution_count": null,
   "metadata": {},
   "outputs": [],
   "source": []
  },
  {
   "cell_type": "code",
   "execution_count": 280,
   "metadata": {},
   "outputs": [
    {
     "name": "stdout",
     "output_type": "stream",
     "text": [
      "Number of axixes: 2\n",
      "Shape of array: (3, 4)\n",
      "Size of array: 12\n",
      "Data type of array: int64\n"
     ]
    }
   ],
   "source": [
    "print(\"Number of axixes:\", np_arr1.ndim)\n",
    "print(\"Shape of array:\", np_arr1.shape)\n",
    "print(\"Size of array:\", np_arr1.size)\n",
    "print(\"Data type of array:\", np_arr1.dtype)"
   ]
  },
  {
   "cell_type": "code",
   "execution_count": 281,
   "metadata": {},
   "outputs": [
    {
     "name": "stdout",
     "output_type": "stream",
     "text": [
      "Array's memory size: 96\n",
      "np_arr1: [[1. 2. 3. 4.]\n",
      " [5. 6. 7. 8.]\n",
      " [2. 3. 4. 5.]]\n"
     ]
    }
   ],
   "source": [
    "print(\"Array's memory size:\", np_arr1.nbytes)\n",
    "\n",
    "print(\"np_arr1:\", np.empty((3, 4)))"
   ]
  },
  {
   "cell_type": "code",
   "execution_count": 282,
   "metadata": {},
   "outputs": [
    {
     "name": "stdout",
     "output_type": "stream",
     "text": [
      "ones array: [[1. 1. 1.]\n",
      " [1. 1. 1.]\n",
      " [1. 1. 1.]\n",
      " [1. 1. 1.]\n",
      " [1. 1. 1.]\n",
      " [1. 1. 1.]\n",
      " [1. 1. 1.]\n",
      " [1. 1. 1.]\n",
      " [1. 1. 1.]\n",
      " [1. 1. 1.]]\n",
      "my_numpy_arr: [[[ 0. 10.]\n",
      "  [10. 10.]\n",
      "  [10. 10.]\n",
      "  [10. 10.]\n",
      "  [10. 10.]]\n",
      "\n",
      " [[10. 10.]\n",
      "  [10. 10.]\n",
      "  [10. 10.]\n",
      "  [10. 10.]\n",
      "  [10. 10.]]]\n"
     ]
    }
   ],
   "source": [
    "print(\"ones array:\", np.ones((10, 3)))\n",
    "my_numpy_arr = np.linspace(0, 2.5, 20).reshape(2, 5, 2)\n",
    "print(\"my_numpy_arr:\", 10*np.sign(my_numpy_arr))"
   ]
  },
  {
   "cell_type": "code",
   "execution_count": 283,
   "metadata": {},
   "outputs": [
    {
     "name": "stdout",
     "output_type": "stream",
     "text": [
      "array with predicated values: [[[0. ]\n",
      "  [0.2]]\n",
      "\n",
      " [[0.4]\n",
      "  [0.6]]\n",
      "\n",
      " [[0.8]\n",
      "  [1. ]]]\n"
     ]
    }
   ],
   "source": [
    "print(\"array with predicated values:\", np.linspace(0, 1, 6).reshape(3, 2, 1))"
   ]
  },
  {
   "cell_type": "code",
   "execution_count": 284,
   "metadata": {},
   "outputs": [
    {
     "name": "stdout",
     "output_type": "stream",
     "text": [
      "Matrix multiplication of A and B: [[ 30  24  18]\n",
      " [ 84  69  54]\n",
      " [138 114  90]]\n",
      "using numpy multiply function: [[ 30  24  18]\n",
      " [ 84  69  54]\n",
      " [138 114  90]]\n",
      "we can also use dot fun from numpy [[ 30  24  18]\n",
      " [ 84  69  54]\n",
      " [138 114  90]]\n"
     ]
    }
   ],
   "source": [
    "A = np.array([[1, 2, 3], [4, 5, 6], [7, 8, 9]])\n",
    "B = np.array([[9, 8, 7], [6, 5, 4], [3, 2, 1]])\n",
    "\n",
    "# matrix multiplication\n",
    "print(\"Matrix multiplication of A and B:\", A @ B)\n",
    "print(\"using numpy multiply function:\", np.matmul(A, B))\n",
    "print(\"we can also use dot fun from numpy\", np.dot(A, B))\n",
    "\n",
    "# A*B - element-wise multiplication or product\n",
    "# A-B - element-wise subtraction\n",
    "# A+B - element-wise addition\n",
    "# A/B - element-wise division\n",
    "# A**2 - element-wise square"
   ]
  },
  {
   "cell_type": "code",
   "execution_count": 285,
   "metadata": {},
   "outputs": [
    {
     "name": "stdout",
     "output_type": "stream",
     "text": [
      "Matrix B: [5 6 7 8 9]\n",
      "exp(B): [ 148.4131591   403.42879349 1096.63315843 2980.95798704 8103.08392758]\n",
      "log(B): [1.60943791 1.79175947 1.94591015 2.07944154 2.19722458]\n",
      "sin(B): [-0.95892427 -0.2794155   0.6569866   0.98935825  0.41211849]\n",
      "cos(B): [ 0.28366219  0.96017029  0.75390225 -0.14550003 -0.91113026]\n"
     ]
    }
   ],
   "source": [
    "# universal functions of numpy\n",
    "# 1. exp() - exponential function\n",
    "import numpy as np\n",
    "B = np.arange(5, 10)\n",
    "print(\"Matrix B:\", B)\n",
    "# exponential - calculates the exponential of each element in B\n",
    "print(\"exp(B):\", np.exp(B))\n",
    "# log() - calculates the natural logarithm (base e) of each element in B\n",
    "print(\"log(B):\", np.log(B))\n",
    "# sin() - calculates the sine of each element in B\n",
    "print(\"sin(B):\", np.sin(B))\n",
    "# cos() - calculates the cosine of each element in B\n",
    "print(\"cos(B):\", np.cos(B))"
   ]
  },
  {
   "cell_type": "code",
   "execution_count": 286,
   "metadata": {},
   "outputs": [
    {
     "name": "stdout",
     "output_type": "stream",
     "text": [
      "Random 3x4 array with pi: [[2 1 2 2]\n",
      " [2 1 2 2]\n",
      " [1 2 1 1]]\n",
      "\n",
      "\n",
      "--------\n",
      "[2 1 2 2]\n",
      "[2 1 2 2]\n",
      "[1 2 1 1]\n"
     ]
    }
   ],
   "source": [
    "\n",
    "random_arr = np.random.randint(1, int(np.pi), size=(3, 4))\n",
    "print(\"Random 3x4 array with pi:\", random_arr)\n",
    "\n",
    "print(\"\\n\\n--------\")\n",
    "for row in random_arr:\n",
    "    print(row)"
   ]
  },
  {
   "cell_type": "code",
   "execution_count": 287,
   "metadata": {},
   "outputs": [
    {
     "name": "stdout",
     "output_type": "stream",
     "text": [
      "(1, 3, 5)\n",
      "3\n",
      "15\n",
      "4\n",
      "float32\n",
      "60\n",
      "110.0\n"
     ]
    }
   ],
   "source": [
    "a = np.array([\n",
    "    [\n",
    "        [1, 2, 3, 4, 5], [6, 7, 8, 9, 10], [11, 12, \"13\", 14, 5]]\n",
    "], dtype=np.float32)\n",
    "print(a.shape)\n",
    "print(a.ndim)\n",
    "print(a.size)\n",
    "print(a.itemsize)\n",
    "print(a.dtype)\n",
    "print(a.nbytes)\n",
    "print(a.sum())"
   ]
  },
  {
   "cell_type": "code",
   "execution_count": 288,
   "metadata": {},
   "outputs": [
    {
     "name": "stdout",
     "output_type": "stream",
     "text": [
      "[1.        1.3       1.5999999 1.8999999 2.1999998 2.4999998 2.7999997\n",
      " 3.0999997 3.3999996 3.6999996 3.9999995 4.299999  4.5999994 4.8999996\n",
      " 5.1999993 5.499999  5.799999  6.0999994 6.399999  6.699999  6.999999\n",
      " 7.299999  7.599999  7.8999987 8.199999  8.499999  8.799999  9.099998\n",
      " 9.399999  9.699999 ]\n",
      "[0.   0.25 0.5  0.75 1.  ]\n"
     ]
    }
   ],
   "source": [
    "arr_items = np.arange(1, 10, 0.3, dtype=np.float32)\n",
    "print(arr_items)\n",
    "# generate fix size of items\n",
    "arr_items = np.linspace(0, 1, 5)\n",
    "print(arr_items)"
   ]
  },
  {
   "cell_type": "code",
   "execution_count": 289,
   "metadata": {},
   "outputs": [
    {
     "name": "stdout",
     "output_type": "stream",
     "text": [
      "nan\n",
      "inf\n",
      "<class 'float'>\n",
      "<class 'float'>\n",
      "True\n",
      "True\n",
      "[[1. 0. 0.]\n",
      " [0. 1. 0.]\n",
      " [0. 0. 1.]]\n"
     ]
    }
   ],
   "source": [
    "nan_value = np.nan\n",
    "np_inf = np.inf\n",
    "print(nan_value)\n",
    "print(np_inf)\n",
    "# check the type of the nan value\n",
    "print(type(nan_value))\n",
    "print(type(np_inf))\n",
    "# check if the value is NaN\n",
    "print(np.isnan(nan_value))\n",
    "# check if the value is infinity\n",
    "print(np.isinf(np_inf))\n",
    "\n",
    "# create a 3x3 identity matrix\n",
    "np_identity_matrix = np.eye(3)\n",
    "print(np_identity_matrix)"
   ]
  },
  {
   "cell_type": "code",
   "execution_count": 290,
   "metadata": {},
   "outputs": [
    {
     "name": "stdout",
     "output_type": "stream",
     "text": [
      "[ 1  2  3 10 11 12  4  5  6  7  8  9]\n",
      "[1 2 3 4 5 6 7 8 9]\n",
      "[  1   2   3 100 200 300   7   8   9  10]\n",
      "[  1   2   3 200   7   8   9  10]\n",
      "---------\n",
      "[[ 1  2  3  4]\n",
      " [ 5  6  7  8]\n",
      " [ 9 10 11 12]]\n",
      "delete the first column [[ 2  4]\n",
      " [ 6  8]\n",
      " [10 12]]\n"
     ]
    }
   ],
   "source": [
    "np_arr = np.array([1, 2, 3, 4, 5, 6, 7, 8, 9])\n",
    "\n",
    "# insert the items\n",
    "np_arr1 = np.insert(np_arr, 3, [10, 11, 12])\n",
    "print(np_arr1)\n",
    "print(np_arr)\n",
    "\n",
    "# update the items\n",
    "np_arr2 = np.array([1, 2, 3, 4, 5, 6, 7, 8, 9, 10])\n",
    "np_arr2[3:6] = [100, 200, 300]\n",
    "print(np_arr2)\n",
    "\n",
    "# delete the items\n",
    "np_arr3 = np.delete(np_arr2, [3, 5])\n",
    "print(np_arr3)\n",
    "print(\"---------\")\n",
    "np_arr = np.array([[1, 2, 3, 4], [5, 6, 7, 8], [9, 10, 11, 12]])\n",
    "print(np_arr)\n",
    "print(\"delete the first column\", np.delete(np_arr, [0, 2], axis=1))"
   ]
  },
  {
   "cell_type": "code",
   "execution_count": 291,
   "metadata": {},
   "outputs": [
    {
     "name": "stdout",
     "output_type": "stream",
     "text": [
      "[[1 0 0 0 0]\n",
      " [0 2 0 0 0]\n",
      " [0 0 3 0 0]\n",
      " [0 0 0 5 0]\n",
      " [0 0 0 0 4]]\n"
     ]
    },
    {
     "data": {
      "text/plain": [
       "array([[[0.        , 0.10526316],\n",
       "        [0.21052632, 0.31578947],\n",
       "        [0.42105263, 0.52631579],\n",
       "        [0.63157895, 0.73684211],\n",
       "        [0.84210526, 0.94736842]],\n",
       "\n",
       "       [[1.05263158, 1.15789474],\n",
       "        [1.26315789, 1.36842105],\n",
       "        [1.47368421, 1.57894737],\n",
       "        [1.68421053, 1.78947368],\n",
       "        [1.89473684, 2.        ]]])"
      ]
     },
     "execution_count": 291,
     "metadata": {},
     "output_type": "execute_result"
    }
   ],
   "source": [
    "# print(np.eye(5,3,dtype=np.uint16))\n",
    "print(np.diag([1, 2, 3, 5, 4], 0)\n",
    "      )\n",
    "np.linspace(0, 2, 20).reshape(2, 5, 2)\n",
    "# (2,5,2) - means 2x5x2 matrices"
   ]
  },
  {
   "cell_type": "code",
   "execution_count": 292,
   "metadata": {},
   "outputs": [
    {
     "name": "stdout",
     "output_type": "stream",
     "text": [
      "[1 2 3]\n",
      "1\n",
      "[1 4 7]\n",
      "[[1 2]\n",
      " [4 5]]\n",
      "[1 4 7]\n",
      "[2 5 8]\n",
      "[2 4 6 8]\n",
      "[2 4 6 8]\n",
      "[[1 2 3]\n",
      " [4 5 6]\n",
      " [7 8 9]] -----\n",
      "[[4 5 6]\n",
      " [7 8 9]]\n"
     ]
    }
   ],
   "source": [
    "A = np.array([[1, 2, 3], [4, 5, 6], [7, 8, 9]])\n",
    "B = np.array([[9, 8, 7], [6, 5, 4], [3, 2, 1]])\n",
    "\n",
    "# access the items\n",
    "print(A[0])  # prints the first row\n",
    "print(A[0][0])  # prints the first element of the first row\n",
    "print(A[:, 0])  # prints the first column\n",
    "print(A[0:2, 0:2])  # prints the first two rows and first two columns\n",
    "# get fist column\n",
    "print(A[:, 0])\n",
    "print(A[:, 1])  # get second column\n",
    "\n",
    "# print the all even numbers in the matrix\n",
    "print(A[A % 2 == 0])\n",
    "# or\n",
    "even_items = np.where(A % 2 == 0)\n",
    "print(A[even_items])\n",
    "\n",
    "search_index = [1, 2]\n",
    "print(A, \"-----\")\n",
    "print(A[search_index])"
   ]
  },
  {
   "cell_type": "code",
   "execution_count": 293,
   "metadata": {},
   "outputs": [
    {
     "name": "stdout",
     "output_type": "stream",
     "text": [
      "[[ 8 14 12  2]\n",
      " [10 17 15  5]\n",
      " [ 1  8  7  7]\n",
      " [ 5  8 13 12]\n",
      " [11  6  8  4]]\n"
     ]
    }
   ],
   "source": [
    "# 0-D array or Scalars is treated as a single element\n",
    "zero_d_array = np.random.randint(1, 20, 20).reshape(5, 4)\n",
    "print(zero_d_array)"
   ]
  },
  {
   "cell_type": "code",
   "execution_count": 294,
   "metadata": {},
   "outputs": [
    {
     "name": "stdout",
     "output_type": "stream",
     "text": [
      "50\n",
      "[50 40 30 20 10]\n",
      "1 + 6 = 7\n",
      "2 + 7 = 9\n",
      "3 + 8 = 11\n",
      "4 + 9 = 13\n",
      "5 + 10 = 15\n"
     ]
    }
   ],
   "source": [
    "arr = np.array([10, 20, 30, 40, 50])\n",
    "\n",
    "print(arr[-1])\n",
    "print(arr[::-1])\n",
    "\n",
    "a1 = np.array([1, 2, 3, 4, 5])\n",
    "a2 = np.array([6, 7, 8, 9, 10])\n",
    "\n",
    "for i1, i2 in zip(a1, a2):\n",
    "    print(i1, \"+\", i2, \"=\", i1+i2)"
   ]
  },
  {
   "cell_type": "code",
   "execution_count": 295,
   "metadata": {},
   "outputs": [
    {
     "name": "stdout",
     "output_type": "stream",
     "text": [
      "[[ 1  2  3  4  5]\n",
      " [ 6  7  8  9 10]] stack array\n",
      "[[ 1  2  3  4  5]\n",
      " [ 6  7  8  9 10]] vertical stack array\n",
      "[ 1  2  3  4  5  6  7  8  9 10]\n"
     ]
    }
   ],
   "source": [
    "a3 = np.array([1, 2, 3, 4, 5])\n",
    "a4 = np.array([6, 7, 8, 9, 10])\n",
    "\n",
    "result = np.stack((a3, a4))\n",
    "print(result,\"stack array\")\n",
    "\n",
    "result = np.vstack((a3, a4))\n",
    "print(result,\"vertical stack array\")\n",
    "result = np.concatenate( (a3, a4))\n",
    "print(result)"
   ]
  },
  {
   "cell_type": "code",
   "execution_count": 296,
   "metadata": {},
   "outputs": [
    {
     "name": "stdout",
     "output_type": "stream",
     "text": [
      "[3]\n",
      "[3 4 5]\n",
      "int64\n",
      "<U7\n"
     ]
    }
   ],
   "source": [
    "a=np.array([1, 2, 3, 4, 5])\n",
    "print(a[2:3])\n",
    "print(a[2:])\n",
    "str=np.array(['apple', 'bananaa', 'cherry'])\n",
    "print(a.dtype)\n",
    "print(str.dtype)"
   ]
  },
  {
   "cell_type": "code",
   "execution_count": 297,
   "metadata": {},
   "outputs": [
    {
     "name": "stdout",
     "output_type": "stream",
     "text": [
      "8\n",
      "28\n",
      "40\n",
      "84\n",
      "1\n",
      "1\n",
      "|S1\n",
      "1\n",
      "3\n",
      "1\n",
      "[ True False  True] == bool\n"
     ]
    }
   ],
   "source": [
    "\"\"\"\n",
    "i - integer\n",
    "b - boolean\n",
    "u - unsigned integer\n",
    "f - float\n",
    "c - complex float\n",
    "m - timedelta\n",
    "M - datetime\n",
    "O - object\n",
    "S - string\n",
    "U - unicode string\n",
    "V - fixed chunk of memory for other type ( void )\n",
    "\"\"\"\n",
    "print(a.itemsize)\n",
    "print(str.itemsize)\n",
    "print(a.nbytes)\n",
    "print(str.nbytes)\n",
    "print(a.ndim)\n",
    "print(str.ndim)\n",
    "\n",
    "custom_arr=np.array([1,3,4],dtype=\"S\")\n",
    "print(custom_arr.dtype)\n",
    "print(custom_arr.itemsize)\n",
    "print(custom_arr.nbytes)\n",
    "print(custom_arr.ndim)\n",
    "\n",
    "arr = np.array([1, 0, 3])\n",
    "new_arr=arr.astype(bool)\n",
    "print(new_arr,\"==\",new_arr.dtype)\n"
   ]
  },
  {
   "cell_type": "code",
   "execution_count": 298,
   "metadata": {},
   "outputs": [
    {
     "name": "stdout",
     "output_type": "stream",
     "text": [
      "Copy Method Original Array: [1 2 3 4 5] COPY Array: [100   2   3   4   5]\n",
      "View Method Original Array: [100   2   3   4   5] VIEW Array: [100   2   3   4   5]\n",
      "arr_cp own the data False\n",
      "arr_view own the data True\n"
     ]
    }
   ],
   "source": [
    "arr = np.array([1, 2, 3, 4, 5])\n",
    "# create copy \n",
    "arr_cp=arr.copy()\n",
    "arr_cp[0]=100\n",
    "print(\"Copy Method\",\"Original Array:\",arr , \"COPY Array:\",arr_cp)\n",
    "\n",
    "arr_view=arr.view()\n",
    "arr_view[0]=100\n",
    "print(\"View Method\",\"Original Array:\",arr , \"VIEW Array:\",arr_view)\n",
    "# in short copy allows to create fresh new arr where all initial items are copied  from original array\n",
    "# while view allows to create new arr where changes in original array will reflect in new array\n",
    "# copy - owns the data whike view - does not\n",
    "# we can check \n",
    "print(\"arr_cp own the data\",arr_cp.base is arr)\n",
    "print(\"arr_view own the data\",arr_view.base is arr)"
   ]
  },
  {
   "cell_type": "code",
   "execution_count": 299,
   "metadata": {},
   "outputs": [
    {
     "name": "stdout",
     "output_type": "stream",
     "text": [
      "(2, 2, 3)\n",
      "3\n"
     ]
    }
   ],
   "source": [
    "arr = np.array([[[1, 2,3],[3, 4,33]], [[5, 6,3], [333,7, 8]]])\n",
    "print(arr.shape)\n",
    "print(arr.ndim)"
   ]
  },
  {
   "cell_type": "code",
   "execution_count": 300,
   "metadata": {},
   "outputs": [
    {
     "name": "stdout",
     "output_type": "stream",
     "text": [
      "[[[ 1  2]\n",
      "  [ 3  4]\n",
      "  [ 5  6]]\n",
      "\n",
      " [[ 7  8]\n",
      "  [ 9 10]\n",
      "  [11 12]]]\n"
     ]
    }
   ],
   "source": [
    "arr = np.array([1, 2, 3, 4, 5, 6, 7, 8, 9, 10, 11, 12])\n",
    "\n",
    "newarr = arr.reshape(2, 3, 2)\n",
    "\n",
    "print(newarr)\n",
    "\n",
    "# [[[1,2],[..],[..]],[[..],[..],[..]]]]"
   ]
  },
  {
   "cell_type": "code",
   "execution_count": 301,
   "metadata": {},
   "outputs": [
    {
     "name": "stdout",
     "output_type": "stream",
     "text": [
      "[[[1]\n",
      "  [2]\n",
      "  [3]\n",
      "  [4]]\n",
      "\n",
      " [[5]\n",
      "  [6]\n",
      "  [7]\n",
      "  [8]]]\n",
      "[1 2 3 4 5 6 7 8]\n",
      "[ 1  2  3  4  5  6  7  8  9 10 11 12]\n"
     ]
    }
   ],
   "source": [
    "arr = np.array([1, 2, 3, 4, 5, 6, 7, 8])\n",
    "\n",
    "print(arr.reshape(2, 4,-1))\n",
    "print(arr.copy())\n",
    "\n",
    "multi_arr=np.array([[[1, 2, 3], [4, 5, 6]], [[7, 8, 9], [10, 11, 12]]])\n",
    "print(multi_arr.reshape(-1))"
   ]
  },
  {
   "cell_type": "code",
   "execution_count": 302,
   "metadata": {},
   "outputs": [
    {
     "name": "stdout",
     "output_type": "stream",
     "text": [
      "[[1 2 3]\n",
      " [4 5 6]] <class 'numpy.ndarray'>\n",
      "[[ 7  8  9]\n",
      " [10 11 12]] <class 'numpy.ndarray'>\n",
      "---------\n",
      "1 2 3 4 5 6 7 8 9 10 11 12 \n",
      "---------\n",
      "np.bytes_(b'1')\n",
      "np.bytes_(b'2')\n",
      "np.bytes_(b'3')\n",
      "\n",
      "---------\n",
      "(0, 0, 0) 1\n",
      "(0, 0, 1) 2\n",
      "(0, 0, 2) 3\n",
      "(0, 1, 0) 4\n",
      "(0, 1, 1) 5\n",
      "(0, 1, 2) 6\n",
      "(1, 0, 0) 7\n",
      "(1, 0, 1) 8\n",
      "(1, 0, 2) 9\n",
      "(1, 1, 0) 10\n",
      "(1, 1, 1) 11\n",
      "(1, 1, 2) 12\n",
      "\n",
      "---------\n"
     ]
    }
   ],
   "source": [
    "# iterating over multi-dimensional array\n",
    "for x in multi_arr:\n",
    "    print(x,type(x))  \n",
    "\n",
    "\n",
    "print(\"---------\")\n",
    "# iterate over each element in multi-dimensional array in reverse order\n",
    "for row in multi_arr:\n",
    "    for col in row:\n",
    "        for element in col:\n",
    "            print(element, end=\" \")\n",
    "\n",
    "\n",
    "print(\"\\n---------\")\n",
    "# using nditer \n",
    "for element in np.nditer(np.array([1, 2, 3])\n",
    ",flags=[\"buffered\"],op_dtypes=[\"S\"]):\n",
    "    print(element)\n",
    "\n",
    "print(\"\\n---------\")\n",
    "\n",
    "\n",
    "# using ndenumerate\n",
    "for index, value in np.ndenumerate(multi_arr):\n",
    "    print(index, value)\n",
    "\n",
    "print(\"\\n---------\")\n"
   ]
  },
  {
   "cell_type": "code",
   "execution_count": 303,
   "metadata": {},
   "outputs": [
    {
     "name": "stdout",
     "output_type": "stream",
     "text": [
      "(0, 0, 0)\n",
      "(0, 0, 1)\n",
      "(0, 0, 2)\n",
      "(0, 1, 0)\n",
      "(0, 1, 1)\n",
      "(0, 1, 2)\n",
      "(1, 0, 0)\n",
      "(1, 0, 1)\n",
      "(1, 0, 2)\n",
      "(1, 1, 0)\n",
      "(1, 1, 1)\n",
      "(1, 1, 2)\n",
      "\n",
      "---------\n"
     ]
    }
   ],
   "source": [
    "# using ndindex\n",
    "for index in np.ndindex(multi_arr.shape):\n",
    "    print(index)\n",
    "\n",
    "print(\"\\n---------\")"
   ]
  },
  {
   "cell_type": "code",
   "execution_count": 304,
   "metadata": {},
   "outputs": [
    {
     "name": "stdout",
     "output_type": "stream",
     "text": [
      "nd array concatenate along axis 0 [[ 22 221]\n",
      " [233 464]\n",
      " [  1  63]\n",
      " [ 12   3]]\n",
      "nd array concatenate along axis 1 [[ 22 221   1  63]\n",
      " [233 464  12   3]]\n"
     ]
    }
   ],
   "source": [
    "arr1 = np.array([[22,221], [233, 464]])\n",
    "\n",
    "arr2 = np.array([[1, 63], [12, 3]])\n",
    "\n",
    "arr = np.concatenate((arr1, arr2), axis=1)\n",
    "arr_row= np.concatenate((arr1, arr2), axis=0)\n",
    "print(\"nd array concatenate along axis 0\",arr_row)\n",
    "print(\"nd array concatenate along axis 1\",arr)"
   ]
  },
  {
   "cell_type": "code",
   "execution_count": 305,
   "metadata": {},
   "outputs": [
    {
     "name": "stdout",
     "output_type": "stream",
     "text": [
      "arr -  [1 2 3 4 5 6]\n",
      "arr -  [[1 2 3]\n",
      " [4 5 6]]\n"
     ]
    }
   ],
   "source": [
    "arr1 = np.array([1, 2, 3])\n",
    "\n",
    "arr2 = np.array([4, 5, 6])\n",
    "\n",
    "arr = np.hstack((arr1, arr2))\n",
    "# if we do the horizontal  stack - all elements of arr1 \n",
    "# will be in the first row and all elements of arr2 will be in the second row\n",
    "print(\"arr - \",arr)\n",
    "arr=np.vstack((arr1, arr2))\n",
    "print(\"arr - \",arr)"
   ]
  },
  {
   "cell_type": "code",
   "execution_count": 306,
   "metadata": {},
   "outputs": [
    {
     "name": "stdout",
     "output_type": "stream",
     "text": [
      "[array([1, 2]), array([3, 4]), array([5]), array([6])]\n",
      "[array([[1, 2, 3]]), array([[4, 5, 6]]), array([[7, 8, 9]]), array([], shape=(0, 3), dtype=int64)]\n",
      "new_arr[0] [[1 2 3]]\n",
      "[[1 2 3]]\n",
      "[[4 5 6]]\n",
      "[[7 8 9]]\n"
     ]
    }
   ],
   "source": [
    "arr = np.array([1, 2, 3, 4, 5, 6])\n",
    "\n",
    "newarr = np.array_split(arr,4)\n",
    "\n",
    "print(newarr)\n",
    "\n",
    "# array_split will manage the split sizes automatically \n",
    "arr = np.array([[1, 2, 3], [4, 5, 6], [7, 8, 9]])\n",
    "\n",
    "print(np.array_split(arr,4))\n",
    "newarr = np.split(arr, 3)\n",
    "print(\"new_arr[0]\",newarr[0])\n",
    "for arr in newarr:\n",
    "    print(arr)"
   ]
  },
  {
   "cell_type": "code",
   "execution_count": 307,
   "metadata": {},
   "outputs": [
    {
     "name": "stdout",
     "output_type": "stream",
     "text": [
      "(array([0, 2]),)\n",
      "[15 41]\n",
      "[5 6 7 8 9]\n",
      "[ 6  7  8  9 10]\n"
     ]
    }
   ],
   "source": [
    "arr = np.array([15, 38, 41, 46])\n",
    "# wehre function returns the indices of elements that satisfy the condition\n",
    "x = np.where(arr%2 == 1)\n",
    "print(x)\n",
    "print(arr[x])\n",
    "\n",
    "arr=np.array([1, 2, 3, 4, 5, 6, 7, 8, 9, 10])\n",
    "x=np.where(arr>5)\n",
    "print(x[0])\n",
    "print(arr[x])"
   ]
  },
  {
   "cell_type": "code",
   "execution_count": 308,
   "metadata": {},
   "outputs": [
    {
     "name": "stdout",
     "output_type": "stream",
     "text": [
      "[ 1  2  3  4  5  5  6  7  8  9 10]\n",
      "6\n",
      "[ 4 10 10]\n",
      "[  1   2   3 100   4   5   6   7 200   8   9 300  10]\n"
     ]
    }
   ],
   "source": [
    "arr=np.array([1, 2, 3, 4, 5, 6, 7, 8, 9, 10])\n",
    "x=np.searchsorted(arr, 5)\n",
    "insert_postion=x\n",
    "value_to_insert=5\n",
    "arr = np.insert(arr,insert_postion,value_to_insert)\n",
    "print(arr)\n",
    "# we can controll the search direction \n",
    "x=np.searchsorted(arr, 5, side='right')\n",
    "print(x)\n",
    "\n",
    "# we can search for multiple values\n",
    "arr=np.array([1, 2, 3, 4, 5, 6, 7, 8, 9, 10])\n",
    "x=np.searchsorted(arr, [5, 15, 25])\n",
    "print(x)\n",
    "\n",
    "# insert multiple values\n",
    "arr=np.array([1, 2, 3, 4, 5, 6, 7, 8, 9, 10])\n",
    "values_to_insert=[100, 200, 300]\n",
    "insert_postions=[3, 7, 9]\n",
    "arr = np.insert(arr, insert_postions, values_to_insert)\n",
    "print(arr)"
   ]
  },
  {
   "cell_type": "code",
   "execution_count": 309,
   "metadata": {},
   "outputs": [
    {
     "name": "stdout",
     "output_type": "stream",
     "text": [
      "sorted_arr [300 200 100  10   9   8   7   6   5   4   3   2   1]\n",
      "Boolean array: [False False  True  True]\n",
      "True\n",
      "False\n",
      "['Elephant' 'Dog' 'Cat' 'B' 'A']\n",
      "Sorted array: [[1 5 6]\n",
      " [7 8 9]\n",
      " [2 3 4]]\n"
     ]
    }
   ],
   "source": [
    "sorted_arr=np.sort(arr)[::-1]\n",
    "print(\"sorted_arr\",sorted_arr)\n",
    "\n",
    "# boolean arr\n",
    "arr = np.array([True, False, True, False])\n",
    "print(\"Boolean array:\",np.sort(arr))\n",
    "print(arr.any())\n",
    "print(arr.all())\n",
    "\n",
    "string_arr=[\"A\",\"B\",\"Cat\",\"Dog\",\"Elephant\"]\n",
    "print(np.sort(string_arr)[::-1])\n",
    "\n",
    "arr = np.array([[3, 2, 4], [9, 8, 7], [6, 5, 1]])\n",
    "print(\"Sorted array:\", np.sort(arr, axis=1)[::-1])"
   ]
  },
  {
   "cell_type": "code",
   "execution_count": 310,
   "metadata": {},
   "outputs": [
    {
     "name": "stdout",
     "output_type": "stream",
     "text": [
      "Filtered array: [1 3 5 7 9]\n",
      "Filtered based on boolean arr: [1 3 5 7 9]\n"
     ]
    }
   ],
   "source": [
    "# filtering the array items\n",
    "arr = np.array([1, 2, 3, 4, 5, 6, 7, 8, 9, 10])\n",
    "filtered_arr = arr[arr % 2 == 1]\n",
    "print(\"Filtered array:\", filtered_arr)\n",
    "\n",
    "bool_arr = np.array([True, False, True, False,True, False, True, False, True, False])\n",
    "filtered_bool_arr = arr[bool_arr]\n",
    "print(\"Filtered based on boolean arr:\", filtered_bool_arr)"
   ]
  },
  {
   "cell_type": "code",
   "execution_count": 311,
   "metadata": {},
   "outputs": [
    {
     "name": "stdout",
     "output_type": "stream",
     "text": [
      "[True, False, True, False, True, False, True, False, True, False]\n",
      "Filtered based on boolean list: [1 3 5 7 9]\n"
     ]
    }
   ],
   "source": [
    "filter_bool_arr = []\n",
    "\n",
    "for items in arr:\n",
    "    if items % 2 == 1:\n",
    "        filter_bool_arr.append(True)\n",
    "    else:\n",
    "        filter_bool_arr.append(False)\n",
    "\n",
    "print(filter_bool_arr)\n",
    "\n",
    "filtered_arr = arr[filter_bool_arr]\n",
    "print(\"Filtered based on boolean list:\", filtered_arr)"
   ]
  }
 ],
 "metadata": {
  "kernelspec": {
   "display_name": ".venv",
   "language": "python",
   "name": "python3"
  },
  "language_info": {
   "codemirror_mode": {
    "name": "ipython",
    "version": 3
   },
   "file_extension": ".py",
   "mimetype": "text/x-python",
   "name": "python",
   "nbconvert_exporter": "python",
   "pygments_lexer": "ipython3",
   "version": "3.13.1"
  }
 },
 "nbformat": 4,
 "nbformat_minor": 2
}
