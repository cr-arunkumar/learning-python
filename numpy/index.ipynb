{
 "cells": [
  {
   "cell_type": "code",
   "execution_count": 2,
   "metadata": {},
   "outputs": [
    {
     "name": "stdout",
     "output_type": "stream",
     "text": [
      "[1337162  268620  351947 1756409  920778 1257826 1212848  777715  435675\n",
      "  391294 1232389  567544  388478  202497  773840 1392457  113209  516721\n",
      " 1697984 1170976 1074339  435798  242726  555971 1442958 1708005  912953\n",
      " 1242509  201671 1491604  441336  431970  617961 1403614 1404959  415888\n",
      "  450751  891709   28970  779270 1762187 1761792 1283470  839433 1359369\n",
      " 1368635 1508346 1456745  448025 1738417]\n",
      "[1 3 4 5]\n",
      "<class 'numpy.ndarray'>\n"
     ]
    }
   ],
   "source": [
    "import numpy as np\n",
    "\n",
    "\n",
    "def generate_random_numbers(size, min_val, max_val):\n",
    "    return np.random.randint(min_val, max_val, size)\n",
    "\n",
    "\n",
    "random_numbers = generate_random_numbers(50, 1, 1777700)\n",
    "print(random_numbers)\n",
    "# python array\n",
    "python_arr = [1, 3, 4, 5]\n",
    "# convert to numpy array\n",
    "numpy_arr = np.array(python_arr)\n",
    "print(numpy_arr)\n",
    "print(type(numpy_arr))"
   ]
  },
  {
   "cell_type": "code",
   "execution_count": 3,
   "metadata": {},
   "outputs": [
    {
     "name": "stdout",
     "output_type": "stream",
     "text": [
      "numpy_arr_2: [1 2 3 4 5]\n",
      "numpy_arr_2 + 2: [3 4 5 6 7]\n",
      "numpy_arr_2 * 2: [ 2  4  6  8 10]\n",
      "numpy_arr_2 / 2: [0.5 1.  1.5 2.  2.5]\n",
      "numpy_arr_2 ** 2: [ 1  4  9 16 25]\n",
      "numpy_arr_2.sum(): 15\n"
     ]
    }
   ],
   "source": [
    "\n",
    "# numpy array operations\n",
    "numpy_arr_2 = np.array([1, 2, 3, 4, 5])\n",
    "print(\"numpy_arr_2:\", numpy_arr_2)\n",
    "print(\"numpy_arr_2 + 2:\", numpy_arr_2 + 2)\n",
    "print(\"numpy_arr_2 * 2:\", numpy_arr_2 * 2)\n",
    "print(\"numpy_arr_2 / 2:\", numpy_arr_2 / 2)\n",
    "print(\"numpy_arr_2 ** 2:\", numpy_arr_2 ** 2)\n",
    "print(\"numpy_arr_2.sum():\", numpy_arr_2.sum())"
   ]
  },
  {
   "cell_type": "code",
   "execution_count": 4,
   "metadata": {},
   "outputs": [
    {
     "name": "stdout",
     "output_type": "stream",
     "text": [
      "numpy_arr_2.mean(): 3.0\n",
      "numpy_arr_2.std(): 1.4142135623730951\n"
     ]
    }
   ],
   "source": [
    "print(\"numpy_arr_2.mean():\", numpy_arr_2.mean())\n",
    "print(\"numpy_arr_2.std():\", numpy_arr_2.std())"
   ]
  },
  {
   "cell_type": "code",
   "execution_count": 5,
   "metadata": {},
   "outputs": [
    {
     "name": "stdout",
     "output_type": "stream",
     "text": [
      "Python 2D array sum: 1320  total time taken: 3.409385681152344e-05\n",
      "Numpy 2D array sum: 1320  total time taken: 3.790855407714844e-05\n"
     ]
    }
   ],
   "source": [
    "import time\n",
    "\n",
    "python_2d_arr = [[1, 2, 3, 3, 4, 5, 5, 65, 6, 6, 76, 6, 6, 6, 6, 6, 6, 6, 6, 6, 6, 6, 6, 6, 6, 6, 6, 6, 6, 6, 6, 6, 6, 6, 6, 6, 6, 6, 6, 6, 6, 66, 6, 6, 6], [1, 2, 3, 3, 4, 5, 5, 65, 6, 6, 76, 6, 6, 6, 6, 6, 6, 6, 6, 6,\n",
    "                                                                                                                                                              6, 6, 6, 6, 6, 6, 6, 6, 6, 6, 6, 6, 6, 6, 6, 6, 6, 6, 6, 6, 6, 66, 6, 6, 6], [1, 2, 3, 3, 4, 5, 5, 65, 6, 6, 76, 6, 6, 6, 6, 6, 6, 6, 6, 6, 6, 6, 6, 6, 6, 6, 6, 6, 6, 6, 6, 6, 6, 6, 6, 6, 6, 6, 6, 6, 6, 66, 6, 6, 6]]\n",
    "start_python_time = time.time()\n",
    "python_2d_arr_sum = sum([sum(row) for row in python_2d_arr])\n",
    "end_python_time = time.time()\n",
    "print(\"Python 2D array sum:\", python_2d_arr_sum,\n",
    "      \" total time taken:\", end_python_time-start_python_time)\n",
    "\n",
    "# lets do the same with numpy\n",
    "numpy_2d_arr = np.array(python_2d_arr)\n",
    "start_numpy_time = time.time()\n",
    "numpy_2d_arr_sum = numpy_2d_arr.sum()\n",
    "end_numpy_time = time.time()\n",
    "print(\"Numpy 2D array sum:\", numpy_2d_arr_sum,\n",
    "      \" total time taken:\", end_numpy_time-start_numpy_time)"
   ]
  },
  {
   "cell_type": "code",
   "execution_count": 6,
   "metadata": {},
   "outputs": [
    {
     "name": "stdout",
     "output_type": "stream",
     "text": [
      "numpy_arr_2: [1 2 3 4 5 6]\n",
      "numpy_arr_2.shape: (6,)\n",
      "numpy_2d_arr_3x3: [[ 3  4  4  5]\n",
      " [ 3  6 10  9]\n",
      " [ 4  9  8  2]\n",
      " [ 8  8  6  6]]\n",
      "numpy_2d_arr_3x3m-reshape ---- (4, 4) [[[ 3  4]\n",
      "  [ 4  5]]\n",
      "\n",
      " [[ 3  6]\n",
      "  [10  9]]\n",
      "\n",
      " [[ 4  9]\n",
      "  [ 8  2]]\n",
      "\n",
      " [[ 8  8]\n",
      "  [ 6  6]]] -----\n",
      "numpy_2d_arr_3x3.max(): 10\n",
      "numpy_2d_arr_3x3.min(): (4, 4) 2\n",
      "<class 'numpy.ndarray'> items types int64\n",
      "numpy_2d_arr_3x3.astype(float): [[ 3.  4.  4.  5.]\n",
      " [ 3.  6. 10.  9.]\n",
      " [ 4.  9.  8.  2.]\n",
      " [ 8.  8.  6.  6.]]\n"
     ]
    }
   ],
   "source": [
    "numpy_arr_2 = np.array([1, 2, 3, 4, 5, 6])\n",
    "print(\"numpy_arr_2:\", numpy_arr_2)\n",
    "# shape method - returns the dimensions of the array as a tuple\n",
    "print(\"numpy_arr_2.shape:\", numpy_arr_2.shape)\n",
    "numpy_2d_arr_3x3 = np.random.randint(1, 11, size=(4, 4))\n",
    "print(\"numpy_2d_arr_3x3:\", numpy_2d_arr_3x3)\n",
    "\"\"\"\n",
    "reshape()- returns a new array with the specified shape.\n",
    "input parameters:\n",
    "- newshape: a tuple of integers defining the new shape.\n",
    "   - eg, (2,3)- the array will be reshaped to a 2x3 array.\n",
    "   - 3g (2,3,4)- the array will be reshaped to a 2x3x4 array.\n",
    "- (t1,t12,t3,t4)\n",
    "   \"\"\"\n",
    "print(\"numpy_2d_arr_3x3m-reshape ----\", numpy_2d_arr_3x3.shape,\n",
    "      numpy_2d_arr_3x3.reshape(4, 2, 2), \"-----\")\n",
    "\n",
    "# get the maximum value in the array\n",
    "print(\"numpy_2d_arr_3x3.max():\", numpy_2d_arr_3x3.max())\n",
    "# get the minimum value in the array\n",
    "print(\"numpy_2d_arr_3x3.min():\", numpy_2d_arr_3x3.shape, numpy_2d_arr_3x3.min())\n",
    "\n",
    "# retrun all element as array or flatted array\n",
    "# print(\"numpy_2d_arr_3x3.flatten():\",numpy_2d_arr_3x3.flatten())\n",
    "# reshape the array\n",
    "# print(\"numpy_2d_arr_3x3.reshape(4,16):\",numpy_2d_arr_3x3.reshape(4,16))\n",
    "# print(numpy_2d_arr_3x3)\n",
    "\n",
    "# type of numpy array\n",
    "print(type(numpy_2d_arr_3x3), \"items types\", numpy_2d_arr_3x3.dtype)\n",
    "# cast the all items to float/anything\n",
    "print(\"numpy_2d_arr_3x3.astype(float):\", numpy_2d_arr_3x3.astype(float))"
   ]
  },
  {
   "cell_type": "code",
   "execution_count": 7,
   "metadata": {},
   "outputs": [
    {
     "name": "stdout",
     "output_type": "stream",
     "text": [
      "np.concatenate((np_arr1, np_arr2)): [ 1  2  3  4  5  6  7  8  9 10]\n",
      "np.hstack((np_arr1, np_arr2)): [ 1  2  3  4  5  6  7  8  9 10]\n",
      "np.vstack((np_arr1, np_arr2)): [[ 1  2  3  4  5]\n",
      " [ 6  7  8  9 10]]\n"
     ]
    }
   ],
   "source": [
    "np_arr1 = np.array([1, 2, 3, 4, 5])\n",
    "np_arr2 = np.array([6, 7, 8, 9, 10])\n",
    "# merge two arrays\n",
    "print(\"np.concatenate((np_arr1, np_arr2)):\",\n",
    "      np.concatenate((np_arr1, np_arr2)))\n",
    "# other way to merge two arrays\n",
    "print(\"np.hstack((np_arr1, np_arr2)):\", np.hstack((np_arr1, np_arr2)))\n",
    "print(\"np.vstack((np_arr1, np_arr2)):\", np.vstack((np_arr1, np_arr2)))"
   ]
  },
  {
   "cell_type": "code",
   "execution_count": 8,
   "metadata": {},
   "outputs": [
    {
     "name": "stdout",
     "output_type": "stream",
     "text": [
      "my_numpy_arr: [[[32  3]\n",
      "  [ 2  4]]\n",
      "\n",
      " [[ 5  5]\n",
      "  [34 34]]]\n"
     ]
    }
   ],
   "source": [
    "my_numpy_arr = np.array([32, 3, 2, 4, 5, 5, 34, 34]).reshape(2, 2, 2)\n",
    "print(\"my_numpy_arr:\", my_numpy_arr)"
   ]
  },
  {
   "cell_type": "code",
   "execution_count": 9,
   "metadata": {},
   "outputs": [],
   "source": [
    "np_arr = np.random.randint(10, 70, size=(5, 5))"
   ]
  },
  {
   "cell_type": "code",
   "execution_count": 10,
   "metadata": {},
   "outputs": [
    {
     "name": "stdout",
     "output_type": "stream",
     "text": [
      "np_arr: [[17 34 63 43 61]\n",
      " [20 20 52 53 42]\n",
      " [40 23 53 10 49]\n",
      " [31 18 56 63 33]\n",
      " [51 11 63 62 49]]\n"
     ]
    }
   ],
   "source": [
    "print(\"np_arr:\", np_arr)"
   ]
  },
  {
   "cell_type": "code",
   "execution_count": 11,
   "metadata": {},
   "outputs": [
    {
     "name": "stdout",
     "output_type": "stream",
     "text": [
      "np_arr_flattened: [17 34 63 43 61 20 20 52 53 42 40 23 53 10 49 31 18 56 63 33 51 11 63 62\n",
      " 49]\n"
     ]
    }
   ],
   "source": [
    "np_arr_flattened = np_arr.flatten()\n",
    "print(\"np_arr_flattened:\", np_arr_flattened)"
   ]
  },
  {
   "cell_type": "code",
   "execution_count": 12,
   "metadata": {},
   "outputs": [
    {
     "name": "stdout",
     "output_type": "stream",
     "text": [
      "np_arr_sorted: [[17 34 43 61 63]\n",
      " [20 20 42 52 53]\n",
      " [10 23 40 49 53]\n",
      " [18 31 33 56 63]\n",
      " [11 49 51 62 63]]\n",
      "np_arr_sorted_descending: [[51 34 63 63 61]\n",
      " [40 23 63 62 49]\n",
      " [31 20 56 53 49]\n",
      " [20 18 53 43 42]\n",
      " [17 11 52 10 33]]\n",
      "np_arr_sorted_descending: [[17 34 43 61 63]\n",
      " [20 20 42 52 53]\n",
      " [10 23 40 49 53]\n",
      " [18 31 33 56 63]\n",
      " [11 49 51 62 63]]\n",
      "np_arr_rand: 5*5 [[0.90497985 0.56233748 0.68317913 0.894031   0.52336295]\n",
      " [0.70917431 0.72923325 0.08544737 0.34515177 0.58261584]\n",
      " [0.96249034 0.63170033 0.74372235 0.12227796 0.3704829 ]\n",
      " [0.8887675  0.37029924 0.60923791 0.90886236 0.59285403]\n",
      " [0.99238637 0.79175778 0.12796697 0.61579038 0.56599577]]\n",
      "np_arr_rand.sum(): 15.314105133755476\n",
      "np_arr_rand.mean(): 0.612564205350219\n",
      "np_arr_rand.std(): 0.2552616328613155\n"
     ]
    }
   ],
   "source": [
    "np_arr_sorted = np.sort(np_arr)\n",
    "# by default np sorting in ascending order\n",
    "print(\"np_arr_sorted:\", np_arr_sorted)\n",
    "# to sort in descending order we can use\n",
    "print(\"np_arr_sorted_descending:\", np.sort(np_arr, axis=0)[::-1])\n",
    "# or\n",
    "print(\"np_arr_sorted_descending:\", np.sort(np_arr, kind=\"mergesort\"))\n",
    "# [::-1] is used to reverse the sorted order, achieving descending sorting\n",
    "\n",
    "\n",
    "# create a random 5x5 matrix\n",
    "np_arr_rand = np.random.rand(5, 5)\n",
    "print(\"np_arr_rand: 5*5\", np_arr_rand)\n",
    "# calculate the sum of all elements in the matrix\n",
    "print(\"np_arr_rand.sum():\", np_arr_rand.sum())\n",
    "# calculate the mean of all elements in the matrix\n",
    "print(\"np_arr_rand.mean():\", np_arr_rand.mean())\n",
    "# calculate the standard deviation of all elements in the matrix\n",
    "print(\"np_arr_rand.std():\", np_arr_rand.std())\n",
    "\n",
    "\n",
    "# we can also do metrix operations using numpy\n",
    "np_arr1 = np.array([1, 2, 3, 4, 5])\n",
    "np_arr2 = np.array([6, 7, 8, 9, 10])"
   ]
  },
  {
   "cell_type": "code",
   "execution_count": 13,
   "metadata": {},
   "outputs": [
    {
     "name": "stdout",
     "output_type": "stream",
     "text": [
      "np_arr1 + np_arr2: [[ 0.   4.3  6.   8. ]\n",
      " [ 0.  12.7 15.  17. ]\n",
      " [ 3.   5.   7.   9. ]]\n",
      "np_arr1 - np_arr2: [[ 2.  -0.3  0.   0. ]\n",
      " [10.  -0.7 -1.  -1. ]\n",
      " [ 1.   1.   1.   1. ]]\n",
      "np_arr1 * np_arr2: [[ -1.    4.6   9.   16. ]\n",
      " [-25.   40.2  56.   72. ]\n",
      " [  2.    6.   12.   20. ]]\n",
      "np_arr1 / np_arr2: [[-1.          0.86956522  1.          1.        ]\n",
      " [-1.          0.89552239  0.875       0.88888889]\n",
      " [ 2.          1.5         1.33333333  1.25      ]]\n",
      "np_arr1: [[1. 2. 3. 4.]\n",
      " [5. 6. 7. 8.]\n",
      " [2. 3. 4. 5.]]\n"
     ]
    }
   ],
   "source": [
    "# we can also do metrix operations using numpy\n",
    "np_arr1 = np.array([[1, 2, 3, 4], [5, 6, 7, 8], [2, 3, 4, 5]])\n",
    "np_arr2 = np.array([[-1, 2.3, 3, 4], [-5, 6.7, 8, 9], [1, 2, 3, 4]])\n",
    "\n",
    "# add two arrays\n",
    "print(\"np_arr1 + np_arr2:\", np_arr1 + np_arr2)\n",
    "# subtract two arrays\n",
    "print(\"np_arr1 - np_arr2:\", np_arr1 - np_arr2)\n",
    "# multiply two arrays\n",
    "print(\"np_arr1 * np_arr2:\", np_arr1 * np_arr2)\n",
    "# divide two arrays\n",
    "print(\"np_arr1 / np_arr2:\", np_arr1 / np_arr2)\n",
    "\n",
    "print(\"np_arr1:\", np.array(np_arr1, dtype=np.float64))"
   ]
  },
  {
   "cell_type": "code",
   "execution_count": null,
   "metadata": {},
   "outputs": [],
   "source": []
  },
  {
   "cell_type": "code",
   "execution_count": 14,
   "metadata": {},
   "outputs": [
    {
     "name": "stdout",
     "output_type": "stream",
     "text": [
      "Number of axixes: 2\n",
      "Shape of array: (3, 4)\n",
      "Size of array: 12\n",
      "Data type of array: int64\n"
     ]
    }
   ],
   "source": [
    "print(\"Number of axixes:\", np_arr1.ndim)\n",
    "print(\"Shape of array:\", np_arr1.shape)\n",
    "print(\"Size of array:\", np_arr1.size)\n",
    "print(\"Data type of array:\", np_arr1.dtype)"
   ]
  },
  {
   "cell_type": "code",
   "execution_count": 15,
   "metadata": {},
   "outputs": [
    {
     "name": "stdout",
     "output_type": "stream",
     "text": [
      "Array's memory size: 96\n",
      "np_arr1: [[1. 2. 3. 4.]\n",
      " [5. 6. 7. 8.]\n",
      " [2. 3. 4. 5.]]\n"
     ]
    }
   ],
   "source": [
    "print(\"Array's memory size:\", np_arr1.nbytes)\n",
    "\n",
    "print(\"np_arr1:\", np.empty((3, 4)))"
   ]
  },
  {
   "cell_type": "code",
   "execution_count": 16,
   "metadata": {},
   "outputs": [
    {
     "name": "stdout",
     "output_type": "stream",
     "text": [
      "ones array: [[1. 1. 1.]\n",
      " [1. 1. 1.]\n",
      " [1. 1. 1.]\n",
      " [1. 1. 1.]\n",
      " [1. 1. 1.]\n",
      " [1. 1. 1.]\n",
      " [1. 1. 1.]\n",
      " [1. 1. 1.]\n",
      " [1. 1. 1.]\n",
      " [1. 1. 1.]]\n",
      "my_numpy_arr: [[[ 0. 10.]\n",
      "  [10. 10.]\n",
      "  [10. 10.]\n",
      "  [10. 10.]\n",
      "  [10. 10.]]\n",
      "\n",
      " [[10. 10.]\n",
      "  [10. 10.]\n",
      "  [10. 10.]\n",
      "  [10. 10.]\n",
      "  [10. 10.]]]\n"
     ]
    }
   ],
   "source": [
    "print(\"ones array:\", np.ones((10, 3)))\n",
    "my_numpy_arr = np.linspace(0, 2.5, 20).reshape(2, 5, 2)\n",
    "print(\"my_numpy_arr:\", 10*np.sign(my_numpy_arr))"
   ]
  },
  {
   "cell_type": "code",
   "execution_count": 17,
   "metadata": {},
   "outputs": [
    {
     "name": "stdout",
     "output_type": "stream",
     "text": [
      "array with predicated values: [[[0. ]\n",
      "  [0.2]]\n",
      "\n",
      " [[0.4]\n",
      "  [0.6]]\n",
      "\n",
      " [[0.8]\n",
      "  [1. ]]]\n"
     ]
    }
   ],
   "source": [
    "print(\"array with predicated values:\", np.linspace(0, 1, 6).reshape(3, 2, 1))"
   ]
  },
  {
   "cell_type": "code",
   "execution_count": 18,
   "metadata": {},
   "outputs": [
    {
     "name": "stdout",
     "output_type": "stream",
     "text": [
      "Matrix multiplication of A and B: [[ 30  24  18]\n",
      " [ 84  69  54]\n",
      " [138 114  90]]\n",
      "using numpy multiply function: [[ 30  24  18]\n",
      " [ 84  69  54]\n",
      " [138 114  90]]\n",
      "we can also use dot fun from numpy [[ 30  24  18]\n",
      " [ 84  69  54]\n",
      " [138 114  90]]\n"
     ]
    }
   ],
   "source": [
    "A = np.array([[1, 2, 3], [4, 5, 6], [7, 8, 9]])\n",
    "B = np.array([[9, 8, 7], [6, 5, 4], [3, 2, 1]])\n",
    "\n",
    "# matrix multiplication\n",
    "print(\"Matrix multiplication of A and B:\", A @ B)\n",
    "print(\"using numpy multiply function:\", np.matmul(A, B))\n",
    "print(\"we can also use dot fun from numpy\", np.dot(A, B))\n",
    "\n",
    "# A*B - element-wise multiplication or product\n",
    "# A-B - element-wise subtraction\n",
    "# A+B - element-wise addition\n",
    "# A/B - element-wise division\n",
    "# A**2 - element-wise square"
   ]
  },
  {
   "cell_type": "code",
   "execution_count": 46,
   "metadata": {},
   "outputs": [
    {
     "name": "stdout",
     "output_type": "stream",
     "text": [
      "Matrix B: [5 6 7 8 9]\n",
      "exp(B): [ 148.4131591   403.42879349 1096.63315843 2980.95798704 8103.08392758]\n",
      "log(B): [1.60943791 1.79175947 1.94591015 2.07944154 2.19722458]\n",
      "sin(B): [-0.95892427 -0.2794155   0.6569866   0.98935825  0.41211849]\n",
      "cos(B): [ 0.28366219  0.96017029  0.75390225 -0.14550003 -0.91113026]\n"
     ]
    }
   ],
   "source": [
    "# universal functions of numpy\n",
    "# 1. exp() - exponential function\n",
    "import numpy as np\n",
    "B = np.arange(5, 10)\n",
    "print(\"Matrix B:\", B)\n",
    "# exponential - calculates the exponential of each element in B\n",
    "print(\"exp(B):\", np.exp(B))\n",
    "# log() - calculates the natural logarithm (base e) of each element in B\n",
    "print(\"log(B):\", np.log(B))\n",
    "# sin() - calculates the sine of each element in B\n",
    "print(\"sin(B):\", np.sin(B))\n",
    "# cos() - calculates the cosine of each element in B\n",
    "print(\"cos(B):\", np.cos(B))"
   ]
  },
  {
   "cell_type": "code",
   "execution_count": 92,
   "metadata": {},
   "outputs": [
    {
     "name": "stdout",
     "output_type": "stream",
     "text": [
      "Random 3x4 array with pi: [[2 2 2 1]\n",
      " [1 2 2 2]\n",
      " [1 1 2 2]]\n",
      "\n",
      "\n",
      "--------\n",
      "[2 2 2 1]\n",
      "[1 2 2 2]\n",
      "[1 1 2 2]\n"
     ]
    }
   ],
   "source": [
    "\n",
    "random_arr = np.random.randint(1, int(np.pi), size=(3, 4))\n",
    "print(\"Random 3x4 array with pi:\", random_arr)\n",
    "\n",
    "print(\"\\n\\n--------\")\n",
    "for row in random_arr:\n",
    "    print(row)"
   ]
  },
  {
   "cell_type": "code",
   "execution_count": null,
   "metadata": {},
   "outputs": [],
   "source": []
  }
 ],
 "metadata": {
  "kernelspec": {
   "display_name": ".venv",
   "language": "python",
   "name": "python3"
  },
  "language_info": {
   "codemirror_mode": {
    "name": "ipython",
    "version": 3
   },
   "file_extension": ".py",
   "mimetype": "text/x-python",
   "name": "python",
   "nbconvert_exporter": "python",
   "pygments_lexer": "ipython3",
   "version": "3.13.1"
  }
 },
 "nbformat": 4,
 "nbformat_minor": 2
}
