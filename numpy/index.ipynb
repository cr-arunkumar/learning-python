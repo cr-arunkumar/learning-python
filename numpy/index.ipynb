{
 "cells": [
  {
   "cell_type": "code",
   "execution_count": 2,
   "metadata": {},
   "outputs": [
    {
     "name": "stdout",
     "output_type": "stream",
     "text": [
      "[ 978950 1681940 1057490 1548647 1603543  536714 1301629 1594455  652705\n",
      " 1571346 1181603   39923  787439 1070636 1678989 1656794  969553  736642\n",
      " 1074779  201295  260988 1593807  401860 1418605  550387  250254 1182121\n",
      "  779110  400738  843292  291564  764751 1610185 1341945 1722741 1456278\n",
      "  827339  162723 1374797  478386 1444622  610576   66549 1327569  336124\n",
      " 1029892 1193944 1354814  744533 1767052]\n",
      "[1 3 4 5]\n",
      "<class 'numpy.ndarray'>\n"
     ]
    }
   ],
   "source": [
    "import numpy as np\n",
    "\n",
    "\n",
    "def generate_random_numbers(size, min_val, max_val):\n",
    "    return np.random.randint(min_val, max_val, size)\n",
    "\n",
    "\n",
    "random_numbers = generate_random_numbers(50, 1, 1777700)\n",
    "print(random_numbers)\n",
    "# python array\n",
    "python_arr = [1, 3, 4, 5]\n",
    "# convert to numpy array\n",
    "numpy_arr = np.array(python_arr)\n",
    "print(numpy_arr)\n",
    "print(type(numpy_arr))"
   ]
  },
  {
   "cell_type": "code",
   "execution_count": 3,
   "metadata": {},
   "outputs": [
    {
     "name": "stdout",
     "output_type": "stream",
     "text": [
      "numpy_arr_2: [1 2 3 4 5]\n",
      "numpy_arr_2 + 2: [3 4 5 6 7]\n",
      "numpy_arr_2 * 2: [ 2  4  6  8 10]\n",
      "numpy_arr_2 / 2: [0.5 1.  1.5 2.  2.5]\n",
      "numpy_arr_2 ** 2: [ 1  4  9 16 25]\n",
      "numpy_arr_2.sum(): 15\n"
     ]
    }
   ],
   "source": [
    "\n",
    "# numpy array operations\n",
    "numpy_arr_2 = np.array([1, 2, 3, 4, 5])\n",
    "print(\"numpy_arr_2:\", numpy_arr_2)\n",
    "print(\"numpy_arr_2 + 2:\", numpy_arr_2 + 2)\n",
    "print(\"numpy_arr_2 * 2:\", numpy_arr_2 * 2)\n",
    "print(\"numpy_arr_2 / 2:\", numpy_arr_2 / 2)\n",
    "print(\"numpy_arr_2 ** 2:\", numpy_arr_2 ** 2)\n",
    "print(\"numpy_arr_2.sum():\", numpy_arr_2.sum())"
   ]
  },
  {
   "cell_type": "code",
   "execution_count": 4,
   "metadata": {},
   "outputs": [
    {
     "name": "stdout",
     "output_type": "stream",
     "text": [
      "numpy_arr_2.mean(): 3.0\n",
      "numpy_arr_2.std(): 1.4142135623730951\n"
     ]
    }
   ],
   "source": [
    "print(\"numpy_arr_2.mean():\", numpy_arr_2.mean())\n",
    "print(\"numpy_arr_2.std():\", numpy_arr_2.std())"
   ]
  },
  {
   "cell_type": "code",
   "execution_count": 5,
   "metadata": {},
   "outputs": [
    {
     "name": "stdout",
     "output_type": "stream",
     "text": [
      "Python 2D array sum: 1320  total time taken: 3.504753112792969e-05\n",
      "Numpy 2D array sum: 1320  total time taken: 3.2901763916015625e-05\n"
     ]
    }
   ],
   "source": [
    "import time\n",
    "\n",
    "python_2d_arr = [[1, 2, 3, 3, 4, 5, 5, 65, 6, 6, 76, 6, 6, 6, 6, 6, 6, 6, 6, 6, 6, 6, 6, 6, 6, 6, 6, 6, 6, 6, 6, 6, 6, 6, 6, 6, 6, 6, 6, 6, 6, 66, 6, 6, 6], [1, 2, 3, 3, 4, 5, 5, 65, 6, 6, 76, 6, 6, 6, 6, 6, 6, 6, 6, 6,\n",
    "                                                                                                                                                              6, 6, 6, 6, 6, 6, 6, 6, 6, 6, 6, 6, 6, 6, 6, 6, 6, 6, 6, 6, 6, 66, 6, 6, 6], [1, 2, 3, 3, 4, 5, 5, 65, 6, 6, 76, 6, 6, 6, 6, 6, 6, 6, 6, 6, 6, 6, 6, 6, 6, 6, 6, 6, 6, 6, 6, 6, 6, 6, 6, 6, 6, 6, 6, 6, 6, 66, 6, 6, 6]]\n",
    "start_python_time = time.time()\n",
    "python_2d_arr_sum = sum([sum(row) for row in python_2d_arr])\n",
    "end_python_time = time.time()\n",
    "print(\"Python 2D array sum:\", python_2d_arr_sum,\n",
    "      \" total time taken:\", end_python_time-start_python_time)\n",
    "\n",
    "# lets do the same with numpy\n",
    "numpy_2d_arr = np.array(python_2d_arr)\n",
    "start_numpy_time = time.time()\n",
    "numpy_2d_arr_sum = numpy_2d_arr.sum()\n",
    "end_numpy_time = time.time()\n",
    "print(\"Numpy 2D array sum:\", numpy_2d_arr_sum,\n",
    "      \" total time taken:\", end_numpy_time-start_numpy_time)"
   ]
  },
  {
   "cell_type": "code",
   "execution_count": 6,
   "metadata": {},
   "outputs": [
    {
     "name": "stdout",
     "output_type": "stream",
     "text": [
      "numpy_arr_2: [1 2 3 4 5 6]\n",
      "numpy_arr_2.shape: (6,)\n",
      "numpy_2d_arr_3x3: [[ 1 10  8  3]\n",
      " [ 2  6  6  1]\n",
      " [ 9  9  2  8]\n",
      " [ 4 10  4  4]]\n",
      "numpy_2d_arr_3x3m-reshape ---- (4, 4) [[[ 1 10]\n",
      "  [ 8  3]]\n",
      "\n",
      " [[ 2  6]\n",
      "  [ 6  1]]\n",
      "\n",
      " [[ 9  9]\n",
      "  [ 2  8]]\n",
      "\n",
      " [[ 4 10]\n",
      "  [ 4  4]]] -----\n",
      "numpy_2d_arr_3x3.max(): 10\n",
      "numpy_2d_arr_3x3.min(): (4, 4) 1\n",
      "<class 'numpy.ndarray'> items types int64\n",
      "numpy_2d_arr_3x3.astype(float): [[ 1. 10.  8.  3.]\n",
      " [ 2.  6.  6.  1.]\n",
      " [ 9.  9.  2.  8.]\n",
      " [ 4. 10.  4.  4.]]\n"
     ]
    }
   ],
   "source": [
    "numpy_arr_2 = np.array([1, 2, 3, 4, 5, 6])\n",
    "print(\"numpy_arr_2:\", numpy_arr_2)\n",
    "# shape method - returns the dimensions of the array as a tuple\n",
    "print(\"numpy_arr_2.shape:\", numpy_arr_2.shape)\n",
    "numpy_2d_arr_3x3 = np.random.randint(1, 11, size=(4, 4))\n",
    "print(\"numpy_2d_arr_3x3:\", numpy_2d_arr_3x3)\n",
    "\"\"\"\n",
    "reshape()- returns a new array with the specified shape.\n",
    "input parameters:\n",
    "- newshape: a tuple of integers defining the new shape.\n",
    "   - eg, (2,3)- the array will be reshaped to a 2x3 array.\n",
    "   - 3g (2,3,4)- the array will be reshaped to a 2x3x4 array.\n",
    "- (t1,t12,t3,t4)\n",
    "   \"\"\"\n",
    "print(\"numpy_2d_arr_3x3m-reshape ----\", numpy_2d_arr_3x3.shape,\n",
    "      numpy_2d_arr_3x3.reshape(4, 2, 2), \"-----\")\n",
    "\n",
    "# get the maximum value in the array\n",
    "print(\"numpy_2d_arr_3x3.max():\", numpy_2d_arr_3x3.max())\n",
    "# get the minimum value in the array\n",
    "print(\"numpy_2d_arr_3x3.min():\", numpy_2d_arr_3x3.shape, numpy_2d_arr_3x3.min())\n",
    "\n",
    "# retrun all element as array or flatted array\n",
    "# print(\"numpy_2d_arr_3x3.flatten():\",numpy_2d_arr_3x3.flatten())\n",
    "# reshape the array\n",
    "# print(\"numpy_2d_arr_3x3.reshape(4,16):\",numpy_2d_arr_3x3.reshape(4,16))\n",
    "# print(numpy_2d_arr_3x3)\n",
    "\n",
    "# type of numpy array\n",
    "print(type(numpy_2d_arr_3x3), \"items types\", numpy_2d_arr_3x3.dtype)\n",
    "# cast the all items to float/anything\n",
    "print(\"numpy_2d_arr_3x3.astype(float):\", numpy_2d_arr_3x3.astype(float))"
   ]
  },
  {
   "cell_type": "code",
   "execution_count": 7,
   "metadata": {},
   "outputs": [
    {
     "name": "stdout",
     "output_type": "stream",
     "text": [
      "np.concatenate((np_arr1, np_arr2)): [ 1  2  3  4  5  6  7  8  9 10]\n",
      "np.hstack((np_arr1, np_arr2)): [ 1  2  3  4  5  6  7  8  9 10]\n",
      "np.vstack((np_arr1, np_arr2)): [[ 1  2  3  4  5]\n",
      " [ 6  7  8  9 10]]\n"
     ]
    }
   ],
   "source": [
    "np_arr1 = np.array([1, 2, 3, 4, 5])\n",
    "np_arr2 = np.array([6, 7, 8, 9, 10])\n",
    "# merge two arrays\n",
    "print(\"np.concatenate((np_arr1, np_arr2)):\",\n",
    "      np.concatenate((np_arr1, np_arr2)))\n",
    "# other way to merge two arrays\n",
    "print(\"np.hstack((np_arr1, np_arr2)):\", np.hstack((np_arr1, np_arr2)))\n",
    "print(\"np.vstack((np_arr1, np_arr2)):\", np.vstack((np_arr1, np_arr2)))"
   ]
  },
  {
   "cell_type": "code",
   "execution_count": 8,
   "metadata": {},
   "outputs": [
    {
     "name": "stdout",
     "output_type": "stream",
     "text": [
      "my_numpy_arr: [[[32  3]\n",
      "  [ 2  4]]\n",
      "\n",
      " [[ 5  5]\n",
      "  [34 34]]]\n"
     ]
    }
   ],
   "source": [
    "my_numpy_arr = np.array([32, 3, 2, 4, 5, 5, 34, 34]).reshape(2, 2, 2)\n",
    "print(\"my_numpy_arr:\", my_numpy_arr)"
   ]
  },
  {
   "cell_type": "code",
   "execution_count": 9,
   "metadata": {},
   "outputs": [],
   "source": [
    "np_arr = np.random.randint(10, 70, size=(5, 5))"
   ]
  },
  {
   "cell_type": "code",
   "execution_count": 10,
   "metadata": {},
   "outputs": [
    {
     "name": "stdout",
     "output_type": "stream",
     "text": [
      "np_arr: [[10 40 33 16 22]\n",
      " [60 25 14 52 58]\n",
      " [34 30 51 29 24]\n",
      " [61 58 12 66 37]\n",
      " [29 48 50 26 42]]\n"
     ]
    }
   ],
   "source": [
    "print(\"np_arr:\", np_arr)"
   ]
  },
  {
   "cell_type": "code",
   "execution_count": 11,
   "metadata": {},
   "outputs": [
    {
     "name": "stdout",
     "output_type": "stream",
     "text": [
      "np_arr_flattened: [10 40 33 16 22 60 25 14 52 58 34 30 51 29 24 61 58 12 66 37 29 48 50 26\n",
      " 42]\n"
     ]
    }
   ],
   "source": [
    "np_arr_flattened = np_arr.flatten()\n",
    "print(\"np_arr_flattened:\", np_arr_flattened)"
   ]
  },
  {
   "cell_type": "code",
   "execution_count": 12,
   "metadata": {},
   "outputs": [
    {
     "name": "stdout",
     "output_type": "stream",
     "text": [
      "np_arr_sorted: [[10 16 22 33 40]\n",
      " [14 25 52 58 60]\n",
      " [24 29 30 34 51]\n",
      " [12 37 58 61 66]\n",
      " [26 29 42 48 50]]\n",
      "np_arr_sorted_descending: [[61 58 51 66 58]\n",
      " [60 48 50 52 42]\n",
      " [34 40 33 29 37]\n",
      " [29 30 14 26 24]\n",
      " [10 25 12 16 22]]\n",
      "np_arr_sorted_descending: [[10 16 22 33 40]\n",
      " [14 25 52 58 60]\n",
      " [24 29 30 34 51]\n",
      " [12 37 58 61 66]\n",
      " [26 29 42 48 50]]\n",
      "np_arr_rand: 5*5 [[0.20232765 0.18166347 0.52754859 0.65454203 0.05957995]\n",
      " [0.33200571 0.00842996 0.63163962 0.3690808  0.55909587]\n",
      " [0.66284597 0.67801348 0.09741751 0.42150249 0.43065693]\n",
      " [0.55325438 0.45762112 0.56192632 0.98655463 0.11319811]\n",
      " [0.14630752 0.47938204 0.39706634 0.18185689 0.30887738]]\n",
      "np_arr_rand.sum(): 10.002394751738336\n",
      "np_arr_rand.mean(): 0.40009579006953344\n",
      "np_arr_rand.std(): 0.2338197832438188\n"
     ]
    }
   ],
   "source": [
    "np_arr_sorted = np.sort(np_arr)\n",
    "# by default np sorting in ascending order\n",
    "print(\"np_arr_sorted:\", np_arr_sorted)\n",
    "# to sort in descending order we can use\n",
    "print(\"np_arr_sorted_descending:\", np.sort(np_arr, axis=0)[::-1])\n",
    "# or\n",
    "print(\"np_arr_sorted_descending:\", np.sort(np_arr, kind=\"mergesort\"))\n",
    "# [::-1] is used to reverse the sorted order, achieving descending sorting\n",
    "\n",
    "\n",
    "# create a random 5x5 matrix\n",
    "np_arr_rand = np.random.rand(5, 5)\n",
    "print(\"np_arr_rand: 5*5\", np_arr_rand)\n",
    "# calculate the sum of all elements in the matrix\n",
    "print(\"np_arr_rand.sum():\", np_arr_rand.sum())\n",
    "# calculate the mean of all elements in the matrix\n",
    "print(\"np_arr_rand.mean():\", np_arr_rand.mean())\n",
    "# calculate the standard deviation of all elements in the matrix\n",
    "print(\"np_arr_rand.std():\", np_arr_rand.std())\n",
    "\n",
    "\n",
    "# we can also do metrix operations using numpy\n",
    "np_arr1 = np.array([1, 2, 3, 4, 5])\n",
    "np_arr2 = np.array([6, 7, 8, 9, 10])"
   ]
  },
  {
   "cell_type": "code",
   "execution_count": 13,
   "metadata": {},
   "outputs": [
    {
     "name": "stdout",
     "output_type": "stream",
     "text": [
      "np_arr1 + np_arr2: [[ 0.   4.3  6.   8. ]\n",
      " [ 0.  12.7 15.  17. ]\n",
      " [ 3.   5.   7.   9. ]]\n",
      "np_arr1 - np_arr2: [[ 2.  -0.3  0.   0. ]\n",
      " [10.  -0.7 -1.  -1. ]\n",
      " [ 1.   1.   1.   1. ]]\n",
      "np_arr1 * np_arr2: [[ -1.    4.6   9.   16. ]\n",
      " [-25.   40.2  56.   72. ]\n",
      " [  2.    6.   12.   20. ]]\n",
      "np_arr1 / np_arr2: [[-1.          0.86956522  1.          1.        ]\n",
      " [-1.          0.89552239  0.875       0.88888889]\n",
      " [ 2.          1.5         1.33333333  1.25      ]]\n",
      "np_arr1: [[1. 2. 3. 4.]\n",
      " [5. 6. 7. 8.]\n",
      " [2. 3. 4. 5.]]\n"
     ]
    }
   ],
   "source": [
    "# we can also do metrix operations using numpy\n",
    "np_arr1 = np.array([[1, 2, 3, 4], [5, 6, 7, 8], [2, 3, 4, 5]])\n",
    "np_arr2 = np.array([[-1, 2.3, 3, 4], [-5, 6.7, 8, 9], [1, 2, 3, 4]])\n",
    "\n",
    "# add two arrays\n",
    "print(\"np_arr1 + np_arr2:\", np_arr1 + np_arr2)\n",
    "# subtract two arrays\n",
    "print(\"np_arr1 - np_arr2:\", np_arr1 - np_arr2)\n",
    "# multiply two arrays\n",
    "print(\"np_arr1 * np_arr2:\", np_arr1 * np_arr2)\n",
    "# divide two arrays\n",
    "print(\"np_arr1 / np_arr2:\", np_arr1 / np_arr2)\n",
    "\n",
    "print(\"np_arr1:\", np.array(np_arr1, dtype=np.float64))"
   ]
  },
  {
   "cell_type": "code",
   "execution_count": null,
   "metadata": {},
   "outputs": [],
   "source": []
  },
  {
   "cell_type": "code",
   "execution_count": 14,
   "metadata": {},
   "outputs": [
    {
     "name": "stdout",
     "output_type": "stream",
     "text": [
      "Number of axixes: 2\n",
      "Shape of array: (3, 4)\n",
      "Size of array: 12\n",
      "Data type of array: int64\n"
     ]
    }
   ],
   "source": [
    "print(\"Number of axixes:\", np_arr1.ndim)\n",
    "print(\"Shape of array:\", np_arr1.shape)\n",
    "print(\"Size of array:\", np_arr1.size)\n",
    "print(\"Data type of array:\", np_arr1.dtype)"
   ]
  },
  {
   "cell_type": "code",
   "execution_count": 15,
   "metadata": {},
   "outputs": [
    {
     "name": "stdout",
     "output_type": "stream",
     "text": [
      "Array's memory size: 96\n",
      "np_arr1: [[1. 2. 3. 4.]\n",
      " [5. 6. 7. 8.]\n",
      " [2. 3. 4. 5.]]\n"
     ]
    }
   ],
   "source": [
    "print(\"Array's memory size:\", np_arr1.nbytes)\n",
    "\n",
    "print(\"np_arr1:\", np.empty((3, 4)))"
   ]
  },
  {
   "cell_type": "code",
   "execution_count": 16,
   "metadata": {},
   "outputs": [
    {
     "name": "stdout",
     "output_type": "stream",
     "text": [
      "ones array: [[1. 1. 1.]\n",
      " [1. 1. 1.]\n",
      " [1. 1. 1.]\n",
      " [1. 1. 1.]\n",
      " [1. 1. 1.]\n",
      " [1. 1. 1.]\n",
      " [1. 1. 1.]\n",
      " [1. 1. 1.]\n",
      " [1. 1. 1.]\n",
      " [1. 1. 1.]]\n",
      "my_numpy_arr: [[[ 0. 10.]\n",
      "  [10. 10.]\n",
      "  [10. 10.]\n",
      "  [10. 10.]\n",
      "  [10. 10.]]\n",
      "\n",
      " [[10. 10.]\n",
      "  [10. 10.]\n",
      "  [10. 10.]\n",
      "  [10. 10.]\n",
      "  [10. 10.]]]\n"
     ]
    }
   ],
   "source": [
    "print(\"ones array:\", np.ones((10, 3)))\n",
    "my_numpy_arr = np.linspace(0, 2.5, 20).reshape(2, 5, 2)\n",
    "print(\"my_numpy_arr:\", 10*np.sign(my_numpy_arr))"
   ]
  },
  {
   "cell_type": "code",
   "execution_count": 17,
   "metadata": {},
   "outputs": [
    {
     "name": "stdout",
     "output_type": "stream",
     "text": [
      "array with predicated values: [[[0. ]\n",
      "  [0.2]]\n",
      "\n",
      " [[0.4]\n",
      "  [0.6]]\n",
      "\n",
      " [[0.8]\n",
      "  [1. ]]]\n"
     ]
    }
   ],
   "source": [
    "print(\"array with predicated values:\", np.linspace(0, 1, 6).reshape(3, 2, 1))"
   ]
  },
  {
   "cell_type": "code",
   "execution_count": 18,
   "metadata": {},
   "outputs": [
    {
     "name": "stdout",
     "output_type": "stream",
     "text": [
      "Matrix multiplication of A and B: [[ 30  24  18]\n",
      " [ 84  69  54]\n",
      " [138 114  90]]\n",
      "using numpy multiply function: [[ 30  24  18]\n",
      " [ 84  69  54]\n",
      " [138 114  90]]\n",
      "we can also use dot fun from numpy [[ 30  24  18]\n",
      " [ 84  69  54]\n",
      " [138 114  90]]\n"
     ]
    }
   ],
   "source": [
    "A = np.array([[1, 2, 3], [4, 5, 6], [7, 8, 9]])\n",
    "B = np.array([[9, 8, 7], [6, 5, 4], [3, 2, 1]])\n",
    "\n",
    "# matrix multiplication\n",
    "print(\"Matrix multiplication of A and B:\", A @ B)\n",
    "print(\"using numpy multiply function:\", np.matmul(A, B))\n",
    "print(\"we can also use dot fun from numpy\", np.dot(A, B))\n",
    "\n",
    "# A*B - element-wise multiplication or product\n",
    "# A-B - element-wise subtraction\n",
    "# A+B - element-wise addition\n",
    "# A/B - element-wise division\n",
    "# A**2 - element-wise square"
   ]
  },
  {
   "cell_type": "code",
   "execution_count": 19,
   "metadata": {},
   "outputs": [
    {
     "name": "stdout",
     "output_type": "stream",
     "text": [
      "Matrix B: [5 6 7 8 9]\n",
      "exp(B): [ 148.4131591   403.42879349 1096.63315843 2980.95798704 8103.08392758]\n",
      "log(B): [1.60943791 1.79175947 1.94591015 2.07944154 2.19722458]\n",
      "sin(B): [-0.95892427 -0.2794155   0.6569866   0.98935825  0.41211849]\n",
      "cos(B): [ 0.28366219  0.96017029  0.75390225 -0.14550003 -0.91113026]\n"
     ]
    }
   ],
   "source": [
    "# universal functions of numpy\n",
    "# 1. exp() - exponential function\n",
    "import numpy as np\n",
    "B = np.arange(5, 10)\n",
    "print(\"Matrix B:\", B)\n",
    "# exponential - calculates the exponential of each element in B\n",
    "print(\"exp(B):\", np.exp(B))\n",
    "# log() - calculates the natural logarithm (base e) of each element in B\n",
    "print(\"log(B):\", np.log(B))\n",
    "# sin() - calculates the sine of each element in B\n",
    "print(\"sin(B):\", np.sin(B))\n",
    "# cos() - calculates the cosine of each element in B\n",
    "print(\"cos(B):\", np.cos(B))"
   ]
  },
  {
   "cell_type": "code",
   "execution_count": 20,
   "metadata": {},
   "outputs": [
    {
     "name": "stdout",
     "output_type": "stream",
     "text": [
      "Random 3x4 array with pi: [[2 1 1 2]\n",
      " [1 1 2 1]\n",
      " [1 2 1 1]]\n",
      "\n",
      "\n",
      "--------\n",
      "[2 1 1 2]\n",
      "[1 1 2 1]\n",
      "[1 2 1 1]\n"
     ]
    }
   ],
   "source": [
    "\n",
    "random_arr = np.random.randint(1, int(np.pi), size=(3, 4))\n",
    "print(\"Random 3x4 array with pi:\", random_arr)\n",
    "\n",
    "print(\"\\n\\n--------\")\n",
    "for row in random_arr:\n",
    "    print(row)"
   ]
  },
  {
   "cell_type": "code",
   "execution_count": 36,
   "metadata": {},
   "outputs": [
    {
     "name": "stdout",
     "output_type": "stream",
     "text": [
      "(1, 3, 5)\n",
      "3\n",
      "15\n",
      "4\n",
      "float32\n",
      "60\n",
      "110.0\n"
     ]
    }
   ],
   "source": [
    "a=np.array([\n",
    "    [\n",
    "    [1,2,3,4,5],[6,7,8,9,10],[11,12,\"13\",14,5]]\n",
    "    ],dtype=np.float32)\n",
    "print(a.shape)\n",
    "print(a.ndim)\n",
    "print(a.size)\n",
    "print(a.itemsize)\n",
    "print(a.dtype)\n",
    "print(a.nbytes)\n",
    "print(a.sum())"
   ]
  },
  {
   "cell_type": "code",
   "execution_count": 69,
   "metadata": {},
   "outputs": [
    {
     "name": "stdout",
     "output_type": "stream",
     "text": [
      "[1.        1.3       1.5999999 1.8999999 2.1999998 2.4999998 2.7999997\n",
      " 3.0999997 3.3999996 3.6999996 3.9999995 4.299999  4.5999994 4.8999996\n",
      " 5.1999993 5.499999  5.799999  6.0999994 6.399999  6.699999  6.999999\n",
      " 7.299999  7.599999  7.8999987 8.199999  8.499999  8.799999  9.099998\n",
      " 9.399999  9.699999 ]\n",
      "[0.   0.25 0.5  0.75 1.  ]\n"
     ]
    }
   ],
   "source": [
    "arr_items = np.arange(1, 10, 0.3, dtype=np.float32)\n",
    "print(arr_items)\n",
    "# generate fix size of items \n",
    "arr_items=np.linspace(0,1,5)\n",
    "print(arr_items)\n",
    "\n"
   ]
  },
  {
   "cell_type": "code",
   "execution_count": 83,
   "metadata": {},
   "outputs": [
    {
     "name": "stdout",
     "output_type": "stream",
     "text": [
      "nan\n",
      "inf\n",
      "<class 'float'>\n",
      "<class 'float'>\n",
      "True\n",
      "True\n",
      "[[1. 0. 0.]\n",
      " [0. 1. 0.]\n",
      " [0. 0. 1.]]\n"
     ]
    }
   ],
   "source": [
    "nan_value=np.nan\n",
    "np_inf=np.inf\n",
    "print(nan_value)\n",
    "print(np_inf)\n",
    "# check the type of the nan value\n",
    "print(type(nan_value))\n",
    "print(type(np_inf))\n",
    "# check if the value is NaN\n",
    "print(np.isnan(nan_value))\n",
    "# check if the value is infinity\n",
    "print(np.isinf(np_inf))\n",
    "\n",
    "# create a 3x3 identity matrix\n",
    "np_identity_matrix=np.eye(3)\n",
    "print(np_identity_matrix)"
   ]
  },
  {
   "cell_type": "code",
   "execution_count": 130,
   "metadata": {},
   "outputs": [
    {
     "name": "stdout",
     "output_type": "stream",
     "text": [
      "[ 1  2  3 10 11 12  4  5  6  7  8  9]\n",
      "[1 2 3 4 5 6 7 8 9]\n",
      "[  1   2   3 100 200 300   7   8   9  10]\n",
      "[  1   2   3 200   7   8   9  10]\n",
      "---------\n",
      "[[ 1  2  3  4]\n",
      " [ 5  6  7  8]\n",
      " [ 9 10 11 12]]\n",
      "delete the first column [[ 2  4]\n",
      " [ 6  8]\n",
      " [10 12]]\n"
     ]
    }
   ],
   "source": [
    "np_arr=np.array([1,2,3,4,5,6,7,8,9])\n",
    "\n",
    "# insert the items \n",
    "np_arr1=np.insert(np_arr,3,[10,11,12])\n",
    "print(np_arr1)\n",
    "print(np_arr)\n",
    "\n",
    "# update the items \n",
    "np_arr2=np.array([1,2,3,4,5,6,7,8,9,10])\n",
    "np_arr2[3:6]=[100,200,300]\n",
    "print(np_arr2)\n",
    "\n",
    "# delete the items\n",
    "np_arr3=np.delete(np_arr2,[3,5])\n",
    "print(np_arr3)\n",
    "print(\"---------\")\n",
    "np_arr=np.array([[1,2,3,4],[5,6,7,8],[9,10,11,12]])\n",
    "print(np_arr)\n",
    "print(\"delete the first column\",np.delete(np_arr,[0,2],axis=1))"
   ]
  },
  {
   "cell_type": "code",
   "execution_count": 232,
   "metadata": {},
   "outputs": [
    {
     "name": "stdout",
     "output_type": "stream",
     "text": [
      "[[1 0 0 0 0]\n",
      " [0 2 0 0 0]\n",
      " [0 0 3 0 0]\n",
      " [0 0 0 5 0]\n",
      " [0 0 0 0 4]]\n"
     ]
    },
    {
     "data": {
      "text/plain": [
       "array([[[0.        , 0.10526316],\n",
       "        [0.21052632, 0.31578947],\n",
       "        [0.42105263, 0.52631579],\n",
       "        [0.63157895, 0.73684211],\n",
       "        [0.84210526, 0.94736842]],\n",
       "\n",
       "       [[1.05263158, 1.15789474],\n",
       "        [1.26315789, 1.36842105],\n",
       "        [1.47368421, 1.57894737],\n",
       "        [1.68421053, 1.78947368],\n",
       "        [1.89473684, 2.        ]]])"
      ]
     },
     "execution_count": 232,
     "metadata": {},
     "output_type": "execute_result"
    }
   ],
   "source": [
    "# print(np.eye(5,3,dtype=np.uint16))\n",
    "print(np.diag([1, 2, 3,5,4],0)\n",
    ")\n",
    "np.linspace(0, 2, 20).reshape(2,5,2)\n",
    "# (2,5,2) - means 2x5x2 matrices\n"
   ]
  },
  {
   "cell_type": "code",
   "execution_count": 273,
   "metadata": {},
   "outputs": [
    {
     "name": "stdout",
     "output_type": "stream",
     "text": [
      "[1 2 3]\n",
      "1\n",
      "[1 4 7]\n",
      "[[1 2]\n",
      " [4 5]]\n",
      "[1 4 7]\n",
      "[2 5 8]\n",
      "[2 4 6 8]\n",
      "[2 4 6 8]\n",
      "[[1 2 3]\n",
      " [4 5 6]\n",
      " [7 8 9]] -----\n",
      "[[4 5 6]\n",
      " [7 8 9]]\n"
     ]
    }
   ],
   "source": [
    "A=np.array([[1,2,3],[4,5,6],[7,8,9]])\n",
    "B=np.array([[9,8,7],[6,5,4],[3,2,1]])\n",
    "\n",
    "# access the items\n",
    "print(A[0]) # prints the first row\n",
    "print(A[0][0]) # prints the first element of the first row\n",
    "print(A[:,0]) # prints the first column\n",
    "print(A[0:2,0:2]) # prints the first two rows and first two columns\n",
    "# get fist column\n",
    "print(A[:,0])\n",
    "print(A[:,1]) # get second column\n",
    "\n",
    "# print the all even numbers in the matrix\n",
    "print(A[A % 2 == 0])\n",
    "# or \n",
    "even_items=np.where(A % 2 == 0)\n",
    "print(A[even_items])\n",
    "\n",
    "search_index=[1,2]\n",
    "print(A,\"-----\")\n",
    "print(A[search_index])"
   ]
  },
  {
   "cell_type": "code",
   "execution_count": null,
   "metadata": {},
   "outputs": [],
   "source": []
  }
 ],
 "metadata": {
  "kernelspec": {
   "display_name": ".venv",
   "language": "python",
   "name": "python3"
  },
  "language_info": {
   "codemirror_mode": {
    "name": "ipython",
    "version": 3
   },
   "file_extension": ".py",
   "mimetype": "text/x-python",
   "name": "python",
   "nbconvert_exporter": "python",
   "pygments_lexer": "ipython3",
   "version": "3.13.1"
  }
 },
 "nbformat": 4,
 "nbformat_minor": 2
}
